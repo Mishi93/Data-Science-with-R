{
 "cells": [
  {
   "cell_type": "markdown",
   "id": "44fa5094",
   "metadata": {},
   "source": [
    "# READING & WRITING DATA IN R"
   ]
  },
  {
   "cell_type": "markdown",
   "id": "7ac012e8",
   "metadata": {},
   "source": [
    "## Importing Data In R\n",
    "\n",
    "You can import data from four types of files in R:\n",
    "1. Excel\n",
    "2. Table\n",
    "3. CSV (Comma Separated Files)"
   ]
  },
  {
   "cell_type": "markdown",
   "id": "913babcf",
   "metadata": {},
   "source": [
    "### Excel File "
   ]
  },
  {
   "cell_type": "code",
   "execution_count": 3,
   "id": "c3ee1586",
   "metadata": {
    "vscode": {
     "languageId": "r"
    }
   },
   "outputs": [
    {
     "name": "stderr",
     "output_type": "stream",
     "text": [
      "Warning message:\n",
      "\"package 'readxl' is in use and will not be installed\"\n"
     ]
    },
    {
     "name": "stdout",
     "output_type": "stream",
     "text": [
      "\u001b[90m# A tibble: 3 × 4\u001b[39m\n",
      "  Name    Age Salary Department\n",
      "  \u001b[3m\u001b[90m<chr>\u001b[39m\u001b[23m \u001b[3m\u001b[90m<dbl>\u001b[39m\u001b[23m  \u001b[3m\u001b[90m<dbl>\u001b[39m\u001b[23m \u001b[3m\u001b[90m<chr>\u001b[39m\u001b[23m     \n",
      "\u001b[90m1\u001b[39m John     32  \u001b[4m5\u001b[24m\u001b[4m5\u001b[24m000 Marketing \n",
      "\u001b[90m2\u001b[39m Anna     28  \u001b[4m4\u001b[24m\u001b[4m8\u001b[24m000 Sales     \n",
      "\u001b[90m3\u001b[39m Mike     35  \u001b[4m6\u001b[24m\u001b[4m2\u001b[24m000 IT        \n"
     ]
    }
   ],
   "source": [
    "# Using readxl package (part of tidyverse)\n",
    "install.packages(\"readxl\")\n",
    "library(readxl)\n",
    "\n",
    "# For .xls files\n",
    "data <- read_excel(\"example.xls\") \n",
    "print(data)\n"
   ]
  },
  {
   "cell_type": "markdown",
   "id": "b5bea8e4",
   "metadata": {},
   "source": [
    "### Table"
   ]
  },
  {
   "cell_type": "code",
   "execution_count": 15,
   "id": "a7777ac7",
   "metadata": {
    "vscode": {
     "languageId": "r"
    }
   },
   "outputs": [
    {
     "name": "stderr",
     "output_type": "stream",
     "text": [
      "Warning message in read.table(\"example.txt\"):\n",
      "\"incomplete final line found by readTableHeader on 'example.txt'\"\n"
     ]
    },
    {
     "name": "stdout",
     "output_type": "stream",
     "text": [
      "    V1  V2     V3         V4\n",
      "1 Name Age Salary Department\n",
      "2 John  32  55000  Marketing\n",
      "3 Anna  28  48000      Sales\n",
      "4 Mike  35  62000         IT\n"
     ]
    }
   ],
   "source": [
    "data<-read.table(\"example.txt\")\n",
    "print(data)"
   ]
  },
  {
   "cell_type": "markdown",
   "id": "7b5adbf1",
   "metadata": {},
   "source": [
    "### CSV"
   ]
  },
  {
   "cell_type": "code",
   "execution_count": 16,
   "id": "caf7116f",
   "metadata": {
    "vscode": {
     "languageId": "r"
    }
   },
   "outputs": [
    {
     "name": "stdout",
     "output_type": "stream",
     "text": [
      "  Name Age     Salary Department\n",
      "1 John  32 $55,000.00  Marketing\n",
      "2 Anna  28 $48,000.00      Sales\n",
      "3 Mike  35 $62,000.00         IT\n"
     ]
    }
   ],
   "source": [
    "data<-read.csv(\"example.csv\")\n",
    "print(data)"
   ]
  },
  {
   "cell_type": "markdown",
   "id": "4240b696",
   "metadata": {},
   "source": [
    "---\n",
    "## Exporting Data In R\n",
    "\n",
    "R supports data export from three types of files:\n",
    "1. Table\n",
    "2. Excel\n",
    "3. CSV\n",
    "\n",
    "### Table"
   ]
  },
  {
   "cell_type": "code",
   "execution_count": 19,
   "id": "5dda32f5",
   "metadata": {
    "vscode": {
     "languageId": "r"
    }
   },
   "outputs": [],
   "source": [
    "# Sample data\n",
    "data <- data.frame(\n",
    "  Name = c(\"John\", \"Anna\", \"Mike\"),\n",
    "  Age = c(32, 28, 35),\n",
    "  Salary = c(55000, 48000, 62000)\n",
    ")\n",
    "write.table(data, \"mydata.txt\", sep=\"\\t\")"
   ]
  },
  {
   "cell_type": "markdown",
   "id": "09c96d07",
   "metadata": {},
   "source": [
    "### Excel"
   ]
  },
  {
   "cell_type": "code",
   "execution_count": 9,
   "id": "429c5371",
   "metadata": {
    "vscode": {
     "languageId": "r"
    }
   },
   "outputs": [
    {
     "name": "stderr",
     "output_type": "stream",
     "text": [
      "Warning message:\n",
      "\"package 'writexl' is in use and will not be installed\"\n"
     ]
    }
   ],
   "source": [
    "install.packages(\"writexl\")  # Install if needed\n",
    "library(writexl)\n",
    "\n",
    "# Sample data frame\n",
    "data <- data.frame(\n",
    "  Name = c(\"John\", \"Anna\", \"Mike\"),\n",
    "  Age = c(32, 28, 35),\n",
    "  Salary = c(55000, 48000, 62000)\n",
    ")\n",
    "\n",
    "# Write to Excel (single sheet)\n",
    "write_xlsx(data, \"mydata.xlsx\")"
   ]
  },
  {
   "cell_type": "markdown",
   "id": "fb566ccf",
   "metadata": {},
   "source": [
    "### CSV"
   ]
  },
  {
   "cell_type": "code",
   "execution_count": 8,
   "id": "1e3686ac",
   "metadata": {
    "vscode": {
     "languageId": "r"
    }
   },
   "outputs": [],
   "source": [
    "# Sample data\n",
    "data <- data.frame(\n",
    "  Name = c(\"John\", \"Anna\", \"Mike\"),\n",
    "  Age = c(32, 28, 35),\n",
    "  Salary = c(55000, 48000, 62000)\n",
    ")\n",
    "write.csv(data, \"mydata.csv\", row.names = FALSE)"
   ]
  },
  {
   "cell_type": "markdown",
   "id": "32e3024e",
   "metadata": {},
   "source": [
    "## Summary \n",
    "### Reading Files\n",
    "\n",
    "| **Format** | **Function**       | **Package** | **Key Arguments**                                 | **Best For**                           |\n",
    "|------------|--------------------|-------------|---------------------------------------------------|----------------------------------------|\n",
    "| Text       | `read.table()`     | base        | `sep=\"\\t\"`, `header=TRUE`                         | Tab/space-delimited files              |\n",
    "|            | `read.delim()`     | base        | *(Wrapper for tab-delimited)*                     | Simple tab-separated data              |\n",
    "| CSV        | `read.csv()`       | base        | `stringsAsFactors=FALSE`                          | Basic CSV reading                      |\n",
    "|            | `read_csv()`       | readr       | `col_types=cols()`, `progress=FALSE`              | Large/fast CSV reading                 |\n",
    "| Excel      | `read_excel()`     | readxl      | `sheet=1`, `range=\"A1:D100\"`                      | Modern Excel files (.xlsx)            |\n",
    "|            | `read.xlsx()`      | openxlsx    | `detectDates=TRUE`                                | Excel files with formatting            |\n"
   ]
  },
  {
   "cell_type": "markdown",
   "id": "1c73f5b1",
   "metadata": {},
   "source": [
    "### Writing Files\n",
    "\n",
    "| **Format** | **Function**       | **Package** | **Key Arguments**                                 | **Best For**                       |\n",
    "|------------|--------------------|-------------|---------------------------------------------------|------------------------------------|\n",
    "| Text       | `write.table()`    | base        | `sep=\"\\t\"`, `row.names=FALSE`                     | Custom-delimited text              |\n",
    "|            | `write_delim()`    | readr       | `delim=\"\\t\"`, `na=\"NA\"`                           | Fast tab-delimited export          |\n",
    "| CSV        | `write.csv()`      | base        | `row.names=FALSE`, `na=\"\"`                        | Basic CSV export                   |\n",
    "|            | `write_csv()`      | readr       | *(No row names by default)*                       | Fast CSV export                    |\n",
    "| Excel      | `write_xlsx()`     | writexl     | `format_headers=TRUE`                             | Simple multi-sheet export          |\n",
    "|            | `saveWorkbook()`   | openxlsx    | `creator=\"Your Name\"`, `overwrite=TRUE`           | Formatted Excel files              |\n"
   ]
  }
 ],
 "metadata": {
  "kernelspec": {
   "display_name": "R",
   "language": "R",
   "name": "ir"
  },
  "language_info": {
   "codemirror_mode": "r",
   "file_extension": ".r",
   "mimetype": "text/x-r-source",
   "name": "R",
   "pygments_lexer": "r",
   "version": "4.3.1"
  }
 },
 "nbformat": 4,
 "nbformat_minor": 5
}
