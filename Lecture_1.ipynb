{
 "cells": [
  {
   "cell_type": "markdown",
   "id": "82ace64b",
   "metadata": {},
   "source": [
    "# DATA TYPES AND VARIABLES IN R\n",
    "\n",
    "## Data Types\n",
    "\n",
    "In R, data types define the kind of values a variable can store, influencing how operations are performed and how memory is managed. Variables are essentially names given to memory locations where data is stored.\n",
    "\n",
    "---\n",
    "\n",
    "### Logical Data Type\n",
    "\n",
    "Logical values are TRUE or FALSE.\n"
   ]
  },
  {
   "cell_type": "code",
   "execution_count": 6,
   "id": "c3ef852c",
   "metadata": {
    "vscode": {
     "languageId": "r"
    }
   },
   "outputs": [
    {
     "name": "stdout",
     "output_type": "stream",
     "text": [
      "[1] TRUE\n",
      "[1] FALSE\n",
      "[1] \"logical\"\n"
     ]
    }
   ],
   "source": [
    "x <- TRUE\n",
    "y <- FALSE\n",
    "\n",
    "print(x)        # Output: TRUE\n",
    "print(y)        # Output: FALSE\n",
    "print(class(x)) # Output: \"logical\""
   ]
  },
  {
   "cell_type": "markdown",
   "id": "22546f51",
   "metadata": {},
   "source": [
    "### Numeric Data Type\n",
    "\n",
    "Numeric values include real numbers (decimals)."
   ]
  },
  {
   "cell_type": "code",
   "execution_count": 4,
   "id": "59b71fbe",
   "metadata": {
    "vscode": {
     "languageId": "r"
    }
   },
   "outputs": [
    {
     "name": "stdout",
     "output_type": "stream",
     "text": [
      "[1] 3.14\n",
      "[1] -45.67\n",
      "[1] \"numeric\"\n"
     ]
    }
   ],
   "source": [
    "num1 <- 3.14\n",
    "num2 <- -45.67\n",
    "\n",
    "print(num1)        # Output: 3.14\n",
    "print(num2)        # Output: -45.67\n",
    "print(class(num1)) # Output: \"numeric\""
   ]
  },
  {
   "cell_type": "markdown",
   "id": "81c419fa",
   "metadata": {},
   "source": [
    "### Integer Data Type\n",
    "\n",
    "Integers are whole numbers. Use L suffix to define integers explicitly.\n"
   ]
  },
  {
   "cell_type": "code",
   "execution_count": 5,
   "id": "141bc60d",
   "metadata": {
    "vscode": {
     "languageId": "r"
    }
   },
   "outputs": [
    {
     "name": "stdout",
     "output_type": "stream",
     "text": [
      "[1] 10\n",
      "[1] -25\n",
      "[1] \"integer\"\n"
     ]
    }
   ],
   "source": [
    "int1 <- 10L\n",
    "int2 <- -25L\n",
    "\n",
    "print(int1)        # Output: 10\n",
    "print(int2)        # Output: -25\n",
    "print(class(int1)) # Output: \"integer\""
   ]
  },
  {
   "cell_type": "markdown",
   "id": "635f53e8",
   "metadata": {},
   "source": [
    "### Complex Data Type\n",
    "\n",
    "Complex numbers include a real and an imaginary part."
   ]
  },
  {
   "cell_type": "code",
   "execution_count": 7,
   "id": "30fea6e9",
   "metadata": {
    "vscode": {
     "languageId": "r"
    }
   },
   "outputs": [
    {
     "name": "stdout",
     "output_type": "stream",
     "text": [
      "[1] 2+3i\n",
      "[1] 4-2i\n",
      "[1] \"complex\"\n"
     ]
    }
   ],
   "source": [
    "c1 <- 2 + 3i\n",
    "c2 <- 4 - 2i\n",
    "\n",
    "print(c1)        # Output: 2+3i\n",
    "print(c2)        # Output: 4-2i\n",
    "print(class(c1)) # Output: \"complex\""
   ]
  },
  {
   "cell_type": "markdown",
   "id": "fcd8eaa8",
   "metadata": {},
   "source": [
    "### Character Data Type\n",
    "\n",
    "Character data are text values, defined using quotes \" \"."
   ]
  },
  {
   "cell_type": "code",
   "execution_count": 8,
   "id": "618757d1",
   "metadata": {
    "vscode": {
     "languageId": "r"
    }
   },
   "outputs": [
    {
     "name": "stdout",
     "output_type": "stream",
     "text": [
      "[1] \"Hello R\"\n",
      "[1] \"123\"\n",
      "[1] \"character\"\n"
     ]
    }
   ],
   "source": [
    "char1 <- \"Hello R\"\n",
    "char2 <- \"123\"\n",
    "\n",
    "print(char1)        # Output: \"Hello R\"\n",
    "print(char2)        # Output: \"123\"\n",
    "print(class(char1)) # Output: \"character\""
   ]
  },
  {
   "cell_type": "markdown",
   "id": "e1d6d052",
   "metadata": {},
   "source": [
    "### Raw Data Type\n",
    "\n",
    "Stores raw bytes, used for handling binary data. Less commonly used in general data analysis."
   ]
  },
  {
   "cell_type": "code",
   "execution_count": 11,
   "id": "be7cbf8b",
   "metadata": {
    "vscode": {
     "languageId": "r"
    }
   },
   "outputs": [
    {
     "name": "stdout",
     "output_type": "stream",
     "text": [
      "[1] 01 0a ff\n",
      "[1] \"raw\"\n"
     ]
    }
   ],
   "source": [
    "raw_data <- as.raw(c(0x01, 0x0A, 0xFF)) # Raw\n",
    "print(raw_data)\n",
    "print(class(raw_data))"
   ]
  },
  {
   "cell_type": "markdown",
   "id": "1a3a3bcc",
   "metadata": {},
   "source": [
    "---\n",
    "\n",
    "## Variables in R\n",
    "\n",
    "Variables in R are created by assigning a value to a name using the assignment operator <- or =. The data type of the variable is determined by the data type of the value assigned to it."
   ]
  },
  {
   "cell_type": "code",
   "execution_count": 12,
   "id": "0ef0189c",
   "metadata": {
    "vscode": {
     "languageId": "r"
    }
   },
   "outputs": [],
   "source": [
    "# Assigning a numeric value to a variable\n",
    "temperature <- 25.3\n",
    "\n",
    "# Assigning a character value to a variable\n",
    "city <- \"London\"\n",
    "\n",
    "# Assigning a logical value to a variable\n",
    "is_raining <- TRUE"
   ]
  },
  {
   "cell_type": "markdown",
   "id": "0c6c8ac7",
   "metadata": {},
   "source": [
    "## Variable naming convention\n",
    "\n",
    "* Variable names must start with a letter (a–z or A–Z).\n",
    "* After the first letter, names can include letters, numbers, dot (.) or underscore (_).\n",
    "* Names are case-sensitive (myVar and Myvar are different).\n",
    "* Cannot start with a number.\n",
    "* Cannot start with a dot followed by a number.\n",
    "* Reserved words in R (e.g., if, else, TRUE, FALSE, function) cannot be used.\n",
    "\n",
    "Best Practices:\n",
    "\n",
    "* Use descriptive names for clarity.\n",
    "* Prefer snake_case (e.g., total_sales) or dot.case (e.g., total.sales) consistently.\n",
    "* Avoid very short or cryptic names.\n",
    "* Use uppercase names for constants. Example: PI_VALUE <- 3.14159"
   ]
  },
  {
   "cell_type": "markdown",
   "id": "fc1de343",
   "metadata": {},
   "source": [
    "----\n",
    "\n",
    "# Practice Exercises\n",
    "## Part A – Identify the Data Type\n",
    "\n",
    "What data type is each of the following in R?\n",
    "\n",
    "1. \"Hello World\"\n",
    "\n",
    "2. 25L\n",
    "\n",
    "3. 3.14\n",
    "\n",
    "4. TRUE\n",
    "\n",
    "5. 2 + 5i\n"
   ]
  },
  {
   "cell_type": "markdown",
   "id": "0ffc4c00",
   "metadata": {},
   "source": [
    "## Part B – Correct or Incorrect Variable Names\n",
    "\n",
    "Which of these are valid variable names in R? (Mark ✅ or ❌)\n",
    "\n",
    "1. 1data\n",
    "\n",
    "2. data1\n",
    "\n",
    "3. .2value\n",
    "\n",
    "4. sales_total\n",
    "\n",
    "5. TRUE\n",
    "\n",
    "6. student.name\n",
    "\n"
   ]
  },
  {
   "cell_type": "markdown",
   "id": "424fb0dc",
   "metadata": {},
   "source": [
    "## Part C – Create Variables\n",
    "\n",
    "* Create a variable to store your name.\n",
    "\n",
    "* Create a variable to store your age as an integer.\n",
    "\n",
    "* Create a variable to store your monthly expenses (numeric).\n",
    "\n",
    "* Create a variable to store whether you are a student (logical).\n",
    "\n",
    "* Create a variable to store a complex number with real part 4 and imaginary part 6.\n"
   ]
  },
  {
   "cell_type": "code",
   "execution_count": null,
   "id": "dc59afe4",
   "metadata": {
    "vscode": {
     "languageId": "r"
    }
   },
   "outputs": [],
   "source": []
  },
  {
   "cell_type": "markdown",
   "id": "e2e297d9",
   "metadata": {},
   "source": [
    "## Part D – Application\n",
    "\n",
    "* Write three valid variable names for storing:\n",
    "\n",
    "* Total marks of a student.\n",
    "\n",
    "* Average temperature of a city.\n",
    "\n",
    "* Name of your favorite book."
   ]
  },
  {
   "cell_type": "markdown",
   "id": "168bed8d",
   "metadata": {},
   "source": [
    "---\n",
    "# Summary \n",
    "\n",
    "In R, the main data types are logical, numeric, integer, complex, and character. Variables must start with a letter, are case-sensitive, and can include letters, numbers, dots, or underscores, but cannot use reserved words or start with a number. Using clear, consistent names (like snake_case) makes code easier to read and maintain."
   ]
  }
 ],
 "metadata": {
  "kernelspec": {
   "display_name": "R",
   "language": "R",
   "name": "ir"
  },
  "language_info": {
   "codemirror_mode": "r",
   "file_extension": ".r",
   "mimetype": "text/x-r-source",
   "name": "R",
   "pygments_lexer": "r",
   "version": "4.3.1"
  }
 },
 "nbformat": 4,
 "nbformat_minor": 5
}
