{
 "cells": [
  {
   "cell_type": "markdown",
   "id": "7ff98933",
   "metadata": {},
   "source": [
    "# LOOPS IN R\n",
    "\n",
    "Loops are used to repeat a block of code multiple times, which is useful for tasks like iterating over data, performing repetitive calculations, and automating processes."
   ]
  },
  {
   "cell_type": "markdown",
   "id": "4dab2664",
   "metadata": {},
   "source": [
    "## Types of Loops in R\n",
    "\n",
    "### for Loop\n",
    "\n",
    "*Purpose:* \n",
    "Repeats a block of code a fixed number of times, typically over a sequence or vector.\n",
    "\n",
    "*Syntax:*\n",
    "\n",
    "for (variable in sequence) {\n",
    "     code to execute\n",
    "}"
   ]
  },
  {
   "cell_type": "code",
   "execution_count": 1,
   "id": "4caba8df",
   "metadata": {
    "vscode": {
     "languageId": "r"
    }
   },
   "outputs": [
    {
     "name": "stdout",
     "output_type": "stream",
     "text": [
      "[1] \"Iteration: 1\"\n",
      "[1] \"Iteration: 2\"\n",
      "[1] \"Iteration: 3\"\n",
      "[1] \"Iteration: 4\"\n",
      "[1] \"Iteration: 5\"\n"
     ]
    }
   ],
   "source": [
    "for (i in 1:5) {\n",
    "  print(paste(\"Iteration:\", i))\n",
    "}"
   ]
  },
  {
   "cell_type": "markdown",
   "id": "e204ff4a",
   "metadata": {},
   "source": [
    "### while Loop\n",
    "\n",
    "*Purpose:* Repeats a block of code as long as a specified condition is true.\n",
    "\n",
    "*Syntax:*\n",
    "\n",
    "while (condition) {\n",
    "    code to execute\n",
    "}"
   ]
  },
  {
   "cell_type": "code",
   "execution_count": 2,
   "id": "68908824",
   "metadata": {
    "vscode": {
     "languageId": "r"
    }
   },
   "outputs": [
    {
     "name": "stdout",
     "output_type": "stream",
     "text": [
      "[1] \"Count: 1\"\n",
      "[1] \"Count: 2\"\n",
      "[1] \"Count: 3\"\n",
      "[1] \"Count: 4\"\n",
      "[1] \"Count: 5\"\n"
     ]
    }
   ],
   "source": [
    "count <- 1\n",
    "while (count <= 5) {\n",
    "  print(paste(\"Count:\", count))\n",
    "  count <- count + 1\n",
    "}"
   ]
  },
  {
   "cell_type": "markdown",
   "id": "5f60775d",
   "metadata": {},
   "source": [
    "### repeat Loop\n",
    "\n",
    "*Purpose:*\n",
    "Repeats a block of code indefinitely until explicitly broken with break.\n",
    "\n",
    "*Syntax:*\n",
    "\n",
    "repeat {\n",
    "\n",
    "  if (some_condition) {\n",
    "    break\n",
    "  }\n",
    "}\n"
   ]
  },
  {
   "cell_type": "code",
   "execution_count": 3,
   "id": "2322c6ba",
   "metadata": {
    "vscode": {
     "languageId": "r"
    }
   },
   "outputs": [
    {
     "name": "stdout",
     "output_type": "stream",
     "text": [
      "[1] \"Count: 1\"\n",
      "[1] \"Count: 2\"\n",
      "[1] \"Count: 3\"\n",
      "[1] \"Count: 4\"\n",
      "[1] \"Count: 5\"\n"
     ]
    }
   ],
   "source": [
    "count <- 1\n",
    "repeat {\n",
    "  print(paste(\"Count:\", count))\n",
    "  count <- count + 1\n",
    "  if (count > 5) {\n",
    "    break\n",
    "  }\n",
    "}"
   ]
  },
  {
   "cell_type": "markdown",
   "id": "59e38345",
   "metadata": {},
   "source": [
    "## Control Statements in R\n",
    "1. next\n",
    "\n",
    "*Purpose:*\n",
    " Skips the current iteration of a loop and proceeds to the next iteration.\n",
    "\n",
    "*Use case:* \n",
    "When you want to ignore certain values or conditions within the loop.\n",
    "\n",
    "\n",
    "\n",
    "\n",
    "\n",
    "\n"
   ]
  },
  {
   "cell_type": "code",
   "execution_count": 4,
   "id": "3778aa69",
   "metadata": {
    "vscode": {
     "languageId": "r"
    }
   },
   "outputs": [
    {
     "name": "stdout",
     "output_type": "stream",
     "text": [
      "[1] 1\n",
      "[1] 2\n",
      "[1] 4\n",
      "[1] 5\n"
     ]
    }
   ],
   "source": [
    "# Loop from 1 to 5\n",
    "for (i in 1:5) {\n",
    "  if (i == 3) {\n",
    "    next  # Skip the iteration when i is 3\n",
    "  }\n",
    "  print(i)\n",
    "}"
   ]
  },
  {
   "cell_type": "markdown",
   "id": "87de92fd",
   "metadata": {},
   "source": [
    "2. break\n",
    "\n",
    "*Purpose:*\n",
    " Exits the loop immediately, ending its execution.\n",
    "\n",
    "*Use case:*\n",
    " When a certain condition is met, and you want to stop looping."
   ]
  },
  {
   "cell_type": "code",
   "execution_count": 5,
   "id": "6085bfeb",
   "metadata": {
    "vscode": {
     "languageId": "r"
    }
   },
   "outputs": [
    {
     "name": "stdout",
     "output_type": "stream",
     "text": [
      "[1] 1\n",
      "[1] 2\n",
      "[1] 3\n"
     ]
    }
   ],
   "source": [
    "# Loop from 1 to 5\n",
    "for (i in 1:5) {\n",
    "  if (i == 4) {\n",
    "    break  # Exit the loop when i is 4\n",
    "  }\n",
    "  print(i)\n",
    "}"
   ]
  },
  {
   "cell_type": "markdown",
   "id": "f1079902",
   "metadata": {},
   "source": [
    "## Summary\n",
    "| Loop Type  | Use Case                                   | \n",
    "|------------|--------------------------------------------|\n",
    "| **for**    | When the number of iterations is known     |             \n",
    "| **while**  | Continue looping while a condition is true |       \n",
    "| **repeat** | Infinite loop until `break` is used        | "
   ]
  },
  {
   "cell_type": "markdown",
   "id": "2efe35b0",
   "metadata": {},
   "source": [
    "## Practice Exercises\n",
    "\n",
    "**Sum of Numbers from 1 to 10**\n",
    "\n",
    "Write a for loop that calculates the sum of numbers from 1 to 10 and prints the result.\n",
    "\n"
   ]
  },
  {
   "cell_type": "code",
   "execution_count": 6,
   "id": "7302969b",
   "metadata": {
    "vscode": {
     "languageId": "r"
    }
   },
   "outputs": [
    {
     "name": "stdout",
     "output_type": "stream",
     "text": [
      "[1] \"Sum is: 55\"\n"
     ]
    }
   ],
   "source": [
    "sum <- 0\n",
    "for (i in 1:10){\n",
    "    sum<-sum+i\n",
    "}\n",
    "print(paste(\"Sum is:\", sum))"
   ]
  },
  {
   "cell_type": "markdown",
   "id": "a2a60b47",
   "metadata": {},
   "source": [
    "**Print Even Numbers**\n",
    "\n",
    "Use a for or while loop to print all even numbers between 1 and 20."
   ]
  },
  {
   "cell_type": "code",
   "execution_count": 2,
   "id": "c3328e5d",
   "metadata": {
    "vscode": {
     "languageId": "r"
    }
   },
   "outputs": [
    {
     "name": "stdout",
     "output_type": "stream",
     "text": [
      "[1] 2\n",
      "[1] 4\n",
      "[1] 6\n",
      "[1] 8\n",
      "[1] 10\n",
      "[1] 12\n",
      "[1] 14\n",
      "[1] 16\n",
      "[1] 18\n"
     ]
    }
   ],
   "source": [
    "i <- 1\n",
    "\n",
    "while (i<20){\n",
    "    if(i%%2==0){\n",
    "        print(i)\n",
    "    }\n",
    "    i<-i+1\n",
    "}"
   ]
  },
  {
   "cell_type": "markdown",
   "id": "1765ba02",
   "metadata": {},
   "source": [
    "**Count Down from 5**\n",
    "\n",
    "Create a repeat loop that counts down from 5 to 1 and then prints \"Blast off!\"."
   ]
  },
  {
   "cell_type": "code",
   "execution_count": 2,
   "id": "f18f5a66",
   "metadata": {
    "vscode": {
     "languageId": "r"
    }
   },
   "outputs": [
    {
     "name": "stdout",
     "output_type": "stream",
     "text": [
      "[1] 5\n",
      "[1] 4\n",
      "[1] 3\n",
      "[1] 2\n",
      "[1] 1\n",
      "[1] \"Blast Off!\"\n"
     ]
    }
   ],
   "source": [
    "i <- 5\n",
    "repeat {\n",
    "    print(i)\n",
    "if (i==1){\n",
    "    print(\"Blast Off!\")\n",
    "    break\n",
    "}\n",
    "i <- i-1\n",
    "}"
   ]
  }
 ],
 "metadata": {
  "kernelspec": {
   "display_name": "R",
   "language": "R",
   "name": "ir"
  },
  "language_info": {
   "codemirror_mode": "r",
   "file_extension": ".r",
   "mimetype": "text/x-r-source",
   "name": "R",
   "pygments_lexer": "r",
   "version": "4.3.1"
  }
 },
 "nbformat": 4,
 "nbformat_minor": 5
}
