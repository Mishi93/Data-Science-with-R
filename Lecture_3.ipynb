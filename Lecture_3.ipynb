{
 "cells": [
  {
   "cell_type": "markdown",
   "id": "c222f0ab",
   "metadata": {},
   "source": [
    "# CONDITIONAL STATEMEMTS IN R\n",
    "\n",
    "Conditional statements in R are used to execute code based on whether a condition is TRUE or FALSE. The main types are:\n",
    "\n",
    "* if statement\n",
    "* if-else statement\n",
    "* if-else if-else ladder\n",
    "* switch statement"
   ]
  },
  {
   "cell_type": "markdown",
   "id": "05b2eb4c",
   "metadata": {},
   "source": [
    "## if Statement\n",
    "Executes a block of code if the condition is TRUE."
   ]
  },
  {
   "cell_type": "code",
   "execution_count": 1,
   "id": "aab063b1",
   "metadata": {
    "vscode": {
     "languageId": "r"
    }
   },
   "outputs": [
    {
     "name": "stdout",
     "output_type": "stream",
     "text": [
      "[1] \"x is greater than 5\"\n"
     ]
    }
   ],
   "source": [
    "x <- 10\n",
    "if (x > 5) {\n",
    "  print(\"x is greater than 5\")\n",
    "}"
   ]
  },
  {
   "cell_type": "markdown",
   "id": "9cc4ca43",
   "metadata": {},
   "source": [
    "## if-else Statement\n",
    "\n",
    "Executes one block if the condition is TRUE, otherwise executes the other block."
   ]
  },
  {
   "cell_type": "code",
   "execution_count": 2,
   "id": "e8d8b2a2",
   "metadata": {
    "vscode": {
     "languageId": "r"
    }
   },
   "outputs": [
    {
     "name": "stdout",
     "output_type": "stream",
     "text": [
      "[1] \"x is less than or equal to 5\"\n"
     ]
    }
   ],
   "source": [
    "x <- 3\n",
    "if (x > 5) {\n",
    "  print(\"x is greater than 5\")\n",
    "} else {\n",
    "  print(\"x is less than or equal to 5\")\n",
    "}"
   ]
  },
  {
   "cell_type": "markdown",
   "id": "0152b25c",
   "metadata": {},
   "source": [
    "## if-else if-else Ladder\n",
    "\n",
    "Checks multiple conditions sequentially."
   ]
  },
  {
   "cell_type": "code",
   "execution_count": 3,
   "id": "cd46f662",
   "metadata": {
    "vscode": {
     "languageId": "r"
    }
   },
   "outputs": [
    {
     "name": "stdout",
     "output_type": "stream",
     "text": [
      "[1] \"x is zero\"\n"
     ]
    }
   ],
   "source": [
    "x <- 0\n",
    "if (x > 0) {\n",
    "  print(\"x is positive\")\n",
    "} else if (x < 0) {\n",
    "  print(\"x is negative\")\n",
    "} else {\n",
    "  print(\"x is zero\")\n",
    "}"
   ]
  },
  {
   "cell_type": "markdown",
   "id": "d1c995cd",
   "metadata": {},
   "source": [
    "## switch Statement\n",
    "\n",
    "Selects one of many code blocks to execute based on the value of an expression."
   ]
  },
  {
   "cell_type": "code",
   "execution_count": 4,
   "id": "2fef322b",
   "metadata": {
    "vscode": {
     "languageId": "r"
    }
   },
   "outputs": [
    {
     "name": "stdout",
     "output_type": "stream",
     "text": [
      "[1] \"Option B selected\"\n"
     ]
    }
   ],
   "source": [
    "choice <- \"b\"\n",
    "result <- switch(choice,\n",
    "                 a = \"Option A selected\",\n",
    "                 b = \"Option B selected\",\n",
    "                 c = \"Option C selected\",\n",
    "                 \"Invalid choice\")\n",
    "print(result)"
   ]
  },
  {
   "cell_type": "markdown",
   "id": "3f6e9144",
   "metadata": {},
   "source": [
    "## Summary:\n",
    "\n",
    "* Use if for simple conditions.\n",
    "* Use if-else for binary decisions.\n",
    "* Use if-else if-else for multiple conditions.\n",
    "* Use switch for selecting among many options."
   ]
  },
  {
   "cell_type": "markdown",
   "id": "00fdc12a",
   "metadata": {},
   "source": [
    "---\n",
    "## Practice Exercises\n",
    "1. Check if a number is positive, negative, or zero.\n",
    "\n",
    "Prompt:\n",
    "Write an R script that takes a number and prints whether it is positive, negative, or zero."
   ]
  },
  {
   "cell_type": "code",
   "execution_count": 11,
   "id": "ab3fe9d6",
   "metadata": {
    "vscode": {
     "languageId": "r"
    }
   },
   "outputs": [
    {
     "name": "stdout",
     "output_type": "stream",
     "text": [
      "[1] \"Number is negative\"\n"
     ]
    }
   ],
   "source": [
    "num <- as.numeric(readline(\"Enter a number:\"))\n",
    "if (num > 0){\n",
    "    print (\"Number is positive\")\n",
    "} else if (num < 0){\n",
    "    print(\"Number is negative\")\n",
    "} else {\n",
    "    print(\"Number is zero\")\n",
    "}"
   ]
  },
  {
   "cell_type": "markdown",
   "id": "2947b390",
   "metadata": {},
   "source": [
    "2. Determine if a student passes or fails based on their grade.\n",
    "\n",
    "Prompt:\n",
    "Create a program that assigns a grade (0-100). If the grade is 60 or above, print \"Pass\". Otherwise, print \"Fail\"."
   ]
  },
  {
   "cell_type": "code",
   "execution_count": 12,
   "id": "45051954",
   "metadata": {
    "vscode": {
     "languageId": "r"
    }
   },
   "outputs": [
    {
     "name": "stdout",
     "output_type": "stream",
     "text": [
      "[1] \"Pass\"\n"
     ]
    }
   ],
   "source": [
    "grade <- 80\n",
    "\n",
    "if (grade > 60){\n",
    "    print (\"Pass\")\n",
    "} else {\n",
    "    print (\"Fail\")\n",
    "}"
   ]
  },
  {
   "cell_type": "markdown",
   "id": "281f16ec",
   "metadata": {},
   "source": [
    "3. Determine if a number is even or odd.\n",
    "\n",
    "Prompt:\n",
    "Write an R script that checks whether a number is even or odd and prints the result.\n",
    "\n"
   ]
  },
  {
   "cell_type": "code",
   "execution_count": 14,
   "id": "c9689582",
   "metadata": {
    "vscode": {
     "languageId": "r"
    }
   },
   "outputs": [
    {
     "name": "stdout",
     "output_type": "stream",
     "text": [
      "[1] \"Number is odd\"\n"
     ]
    }
   ],
   "source": [
    "num <- 5\n",
    "\n",
    "if (num%%2==0){\n",
    "    print (\"Number is even\")\n",
    "} else {\n",
    "    print (\"Number is odd\")\n",
    "}"
   ]
  },
  {
   "cell_type": "markdown",
   "id": "046df27c",
   "metadata": {},
   "source": [
    "4. Use switch to select a fruit and print its color.\n",
    "\n",
    "Prompt:\n",
    "Create a switch statement where the user inputs a fruit name (\"apple\", \"banana\", \"orange\") and the program prints the typical color of that fruit."
   ]
  },
  {
   "cell_type": "code",
   "execution_count": 19,
   "id": "2f46cfed",
   "metadata": {
    "vscode": {
     "languageId": "r"
    }
   },
   "outputs": [
    {
     "name": "stdout",
     "output_type": "stream",
     "text": [
      "[1] \"orange\"\n"
     ]
    }
   ],
   "source": [
    "fruit <- \"orange\"\n",
    "\n",
    "switch(fruit,\n",
    "apple={\n",
    "    print(\"red\")\n",
    "    },\n",
    "banana={\n",
    "    print(\"yellow\")\n",
    "    },\n",
    "orange={\n",
    "    print(\"orange\")\n",
    "    })"
   ]
  }
 ],
 "metadata": {
  "kernelspec": {
   "display_name": "R",
   "language": "R",
   "name": "ir"
  },
  "language_info": {
   "codemirror_mode": "r",
   "file_extension": ".r",
   "mimetype": "text/x-r-source",
   "name": "R",
   "pygments_lexer": "r",
   "version": "4.3.1"
  }
 },
 "nbformat": 4,
 "nbformat_minor": 5
}
