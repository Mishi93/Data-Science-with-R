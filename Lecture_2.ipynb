{
 "cells": [
  {
   "cell_type": "markdown",
   "id": "b82fa7b3",
   "metadata": {},
   "source": [
    "# OPERATORS IN R\n",
    "\n",
    "In R programming, operators are symbols or keywords that tell the interpreter to perform specific operations on variables and values.\n",
    "\n",
    "Simply put, they are like tools used to calculate, compare, or manipulate data.\n",
    "\n",
    "## Categories of Operators in R:\n",
    "\n",
    "* Arithmetic Operators → Perform math ( +, -, *, /, ^, %% ).\n",
    "\n",
    "* Relational Operators → Compare values ( ==, !=, >, <, >=, <= ).\n",
    "\n",
    "* Logical Operators → Combine logical conditions ( &, |, !, &&, || ).\n",
    "\n",
    "* Assignment Operators → Assign values ( <-, ->, = ).\n",
    "\n",
    "* Miscellaneous Operators → Special tasks ( :, %in%, %*% )."
   ]
  },
  {
   "cell_type": "markdown",
   "id": "1f21a396",
   "metadata": {},
   "source": [
    "### Arithmetic Operators"
   ]
  },
  {
   "cell_type": "code",
   "execution_count": 3,
   "id": "f622279c",
   "metadata": {
    "vscode": {
     "languageId": "r"
    }
   },
   "outputs": [
    {
     "name": "stdout",
     "output_type": "stream",
     "text": [
      "[1] 13\n",
      "[1] 7\n",
      "[1] 30\n",
      "[1] 3.333333\n",
      "[1] 1\n",
      "[1] 3\n",
      "[1] 1000\n"
     ]
    }
   ],
   "source": [
    "x <- 10\n",
    "y <- 3\n",
    "\n",
    "print(x + y)   # Addition → 13\n",
    "print(x - y)   # Subtraction → 7\n",
    "print(x * y)   # Multiplication → 30\n",
    "print(x / y)   # Division → 3.333...\n",
    "print(x %% y)  # Modulus (remainder) → 1\n",
    "print(x %/% y) # Integer division → 3\n",
    "print(x ^ y)   # Exponent → 1000"
   ]
  },
  {
   "cell_type": "markdown",
   "id": "d8df4bc8",
   "metadata": {},
   "source": [
    "### Relational Operators"
   ]
  },
  {
   "cell_type": "code",
   "execution_count": 4,
   "id": "2ed8d81c",
   "metadata": {
    "vscode": {
     "languageId": "r"
    }
   },
   "outputs": [
    {
     "name": "stdout",
     "output_type": "stream",
     "text": [
      "[1] FALSE\n",
      "[1] TRUE\n",
      "[1] TRUE\n",
      "[1] FALSE\n",
      "[1] TRUE\n",
      "[1] FALSE\n"
     ]
    }
   ],
   "source": [
    "x <- 10\n",
    "y <- 3\n",
    "\n",
    "print(x == y)  # Equal to → FALSE\n",
    "print(x != y)  # Not equal to → TRUE\n",
    "print(x > y)   # Greater than → TRUE\n",
    "print(x < y)   # Less than → FALSE\n",
    "print(x >= y)  # Greater than or equal to → TRUE\n",
    "print(x <= y)  # Less than or equal to → FALSE"
   ]
  },
  {
   "cell_type": "markdown",
   "id": "49546fee",
   "metadata": {},
   "source": [
    "### Logical Operators"
   ]
  },
  {
   "cell_type": "code",
   "execution_count": 6,
   "id": "19d1a073",
   "metadata": {
    "vscode": {
     "languageId": "r"
    }
   },
   "outputs": [
    {
     "data": {
      "text/html": [
       "<style>\n",
       ".list-inline {list-style: none; margin:0; padding: 0}\n",
       ".list-inline>li {display: inline-block}\n",
       ".list-inline>li:not(:last-child)::after {content: \"\\00b7\"; padding: 0 .5ex}\n",
       "</style>\n",
       "<ol class=list-inline><li>FALSE</li><li>FALSE</li><li>TRUE</li></ol>\n"
      ],
      "text/latex": [
       "\\begin{enumerate*}\n",
       "\\item FALSE\n",
       "\\item FALSE\n",
       "\\item TRUE\n",
       "\\end{enumerate*}\n"
      ],
      "text/markdown": [
       "1. FALSE\n",
       "2. FALSE\n",
       "3. TRUE\n",
       "\n",
       "\n"
      ],
      "text/plain": [
       "[1] FALSE FALSE  TRUE"
      ]
     },
     "metadata": {},
     "output_type": "display_data"
    },
    {
     "data": {
      "text/html": [
       "<style>\n",
       ".list-inline {list-style: none; margin:0; padding: 0}\n",
       ".list-inline>li {display: inline-block}\n",
       ".list-inline>li:not(:last-child)::after {content: \"\\00b7\"; padding: 0 .5ex}\n",
       "</style>\n",
       "<ol class=list-inline><li>TRUE</li><li>TRUE</li><li>TRUE</li></ol>\n"
      ],
      "text/latex": [
       "\\begin{enumerate*}\n",
       "\\item TRUE\n",
       "\\item TRUE\n",
       "\\item TRUE\n",
       "\\end{enumerate*}\n"
      ],
      "text/markdown": [
       "1. TRUE\n",
       "2. TRUE\n",
       "3. TRUE\n",
       "\n",
       "\n"
      ],
      "text/plain": [
       "[1] TRUE TRUE TRUE"
      ]
     },
     "metadata": {},
     "output_type": "display_data"
    },
    {
     "data": {
      "text/html": [
       "FALSE"
      ],
      "text/latex": [
       "FALSE"
      ],
      "text/markdown": [
       "FALSE"
      ],
      "text/plain": [
       "[1] FALSE"
      ]
     },
     "metadata": {},
     "output_type": "display_data"
    },
    {
     "data": {
      "text/html": [
       "TRUE"
      ],
      "text/latex": [
       "TRUE"
      ],
      "text/markdown": [
       "TRUE"
      ],
      "text/plain": [
       "[1] TRUE"
      ]
     },
     "metadata": {},
     "output_type": "display_data"
    }
   ],
   "source": [
    "x <- c(TRUE, FALSE, TRUE)\n",
    "y <- c(FALSE, TRUE, TRUE)\n",
    "\n",
    "x & y   # Element-wise AND\n",
    "# Result: FALSE FALSE  TRUE\n",
    "\n",
    "x | y   # Element-wise OR\n",
    "# Result: TRUE TRUE TRUE\n",
    "\n",
    "x <- TRUE\n",
    "y <- FALSE\n",
    "\n",
    "x && y   # → FALSE\n",
    "x || y   # → TRUE\n"
   ]
  },
  {
   "cell_type": "markdown",
   "id": "2db8f96f",
   "metadata": {},
   "source": [
    "### Assignment Operators"
   ]
  },
  {
   "cell_type": "code",
   "execution_count": 3,
   "id": "faa0a222",
   "metadata": {
    "vscode": {
     "languageId": "r"
    }
   },
   "outputs": [
    {
     "data": {
      "text/html": [
       "5"
      ],
      "text/latex": [
       "5"
      ],
      "text/markdown": [
       "5"
      ],
      "text/plain": [
       "[1] 5"
      ]
     },
     "metadata": {},
     "output_type": "display_data"
    },
    {
     "data": {
      "text/html": [
       "10"
      ],
      "text/latex": [
       "10"
      ],
      "text/markdown": [
       "10"
      ],
      "text/plain": [
       "[1] 10"
      ]
     },
     "metadata": {},
     "output_type": "display_data"
    },
    {
     "data": {
      "text/html": [
       "15"
      ],
      "text/latex": [
       "15"
      ],
      "text/markdown": [
       "15"
      ],
      "text/plain": [
       "[1] 15"
      ]
     },
     "metadata": {},
     "output_type": "display_data"
    }
   ],
   "source": [
    "x <- 5     # Left assignment\n",
    "y = 10     # Equal assignment\n",
    "15 -> z    # Right assignment\n",
    "\n",
    "x \n",
    "y\n",
    "z"
   ]
  },
  {
   "cell_type": "markdown",
   "id": "24a2be77",
   "metadata": {},
   "source": [
    "### Miscellaneous Operators"
   ]
  },
  {
   "cell_type": "code",
   "execution_count": 4,
   "id": "fe83287a",
   "metadata": {
    "vscode": {
     "languageId": "r"
    }
   },
   "outputs": [
    {
     "data": {
      "text/html": [
       "<style>\n",
       ".list-inline {list-style: none; margin:0; padding: 0}\n",
       ".list-inline>li {display: inline-block}\n",
       ".list-inline>li:not(:last-child)::after {content: \"\\00b7\"; padding: 0 .5ex}\n",
       "</style>\n",
       "<ol class=list-inline><li>1</li><li>2</li><li>3</li><li>4</li><li>5</li></ol>\n"
      ],
      "text/latex": [
       "\\begin{enumerate*}\n",
       "\\item 1\n",
       "\\item 2\n",
       "\\item 3\n",
       "\\item 4\n",
       "\\item 5\n",
       "\\end{enumerate*}\n"
      ],
      "text/markdown": [
       "1. 1\n",
       "2. 2\n",
       "3. 3\n",
       "4. 4\n",
       "5. 5\n",
       "\n",
       "\n"
      ],
      "text/plain": [
       "[1] 1 2 3 4 5"
      ]
     },
     "metadata": {},
     "output_type": "display_data"
    },
    {
     "data": {
      "text/html": [
       "TRUE"
      ],
      "text/latex": [
       "TRUE"
      ],
      "text/markdown": [
       "TRUE"
      ],
      "text/plain": [
       "[1] TRUE"
      ]
     },
     "metadata": {},
     "output_type": "display_data"
    },
    {
     "data": {
      "text/html": [
       "FALSE"
      ],
      "text/latex": [
       "FALSE"
      ],
      "text/markdown": [
       "FALSE"
      ],
      "text/plain": [
       "[1] FALSE"
      ]
     },
     "metadata": {},
     "output_type": "display_data"
    }
   ],
   "source": [
    "# Sequence operator\n",
    "1:5   # 1 2 3 4 5\n",
    "\n",
    "# Membership operator\n",
    "x <- c(2, 4, 6, 8)\n",
    "4 %in% x   # TRUE\n",
    "5 %in% x   # FALSE"
   ]
  },
  {
   "cell_type": "markdown",
   "id": "017acb22",
   "metadata": {},
   "source": [
    "## Practice Exercises – Operators in R\n",
    "\n",
    "### Arithmetic Operators\n",
    "\n",
    "Create two numbers a <- 15, b <- 4.\n",
    "\n",
    "Find their sum, difference, product, quotient, modulus, and exponent (a^b).\n"
   ]
  },
  {
   "cell_type": "code",
   "execution_count": null,
   "id": "4125ba40",
   "metadata": {
    "vscode": {
     "languageId": "r"
    }
   },
   "outputs": [],
   "source": []
  },
  {
   "cell_type": "markdown",
   "id": "3c90b40f",
   "metadata": {},
   "source": [
    "### Relational Operators\n",
    "\n",
    "Check if 25 is greater than 30.\n",
    "\n",
    "Compare two vectors:\n",
    "\n",
    "x <- c(2, 5, 8)\n",
    "y <- c(3, 5, 7)\n",
    "x > y\n",
    "x == y"
   ]
  },
  {
   "cell_type": "code",
   "execution_count": null,
   "id": "25fca110",
   "metadata": {
    "vscode": {
     "languageId": "r"
    }
   },
   "outputs": [],
   "source": []
  },
  {
   "cell_type": "markdown",
   "id": "744d47b6",
   "metadata": {},
   "source": [
    "### Logical Operators\n",
    "\n",
    "Evaluate:\n",
    "\n",
    "(5 > 2) & (10 < 20)\n",
    "(5 > 8) | (10 == 10)\n",
    "!(TRUE)\n",
    "\n",
    "\n",
    "Try using && and || with vectors and see what happens."
   ]
  },
  {
   "cell_type": "code",
   "execution_count": null,
   "id": "7c6eb85d",
   "metadata": {
    "vscode": {
     "languageId": "r"
    }
   },
   "outputs": [],
   "source": []
  },
  {
   "cell_type": "markdown",
   "id": "e397874c",
   "metadata": {},
   "source": [
    "### Assignment Operators\n",
    "\n",
    "Assign 100 to a variable in three different ways (<-, =, ->).\n",
    "\n",
    "Print all three variables."
   ]
  },
  {
   "cell_type": "code",
   "execution_count": null,
   "id": "00bb656b",
   "metadata": {
    "vscode": {
     "languageId": "r"
    }
   },
   "outputs": [],
   "source": []
  },
  {
   "cell_type": "markdown",
   "id": "d6bacd8a",
   "metadata": {},
   "source": [
    "## Summary\n",
    "\n",
    "In R, operators are special symbols used to perform calculations, comparisons, logical tests, assignments, and data manipulations. They are grouped into categories: arithmetic operators (for basic math like +, -, *, /), relational operators (for comparisons such as ==, >, <), logical operators (for combining conditions using &, |, &&, ||), assignment operators (<-, =, ->), and miscellaneous operators (:, %in%, %*%). Together, they allow R programmers to handle data and control logic efficiently."
   ]
  }
 ],
 "metadata": {
  "kernelspec": {
   "display_name": "R",
   "language": "R",
   "name": "ir"
  },
  "language_info": {
   "codemirror_mode": "r",
   "file_extension": ".r",
   "mimetype": "text/x-r-source",
   "name": "R",
   "pygments_lexer": "r",
   "version": "4.3.1"
  }
 },
 "nbformat": 4,
 "nbformat_minor": 5
}
