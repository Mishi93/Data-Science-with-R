{
 "cells": [
  {
   "cell_type": "markdown",
   "id": "1bfc315e",
   "metadata": {},
   "source": [
    "# APPLY FUNCTIONS IN R\n",
    "\n",
    "In R, apply functions belong to the apply family which helps in applying a function over elements of data structures like vectors, lists, matrices, or data frames without using explicit loops. They make code cleaner and often faster."
   ]
  },
  {
   "cell_type": "markdown",
   "id": "664b0621",
   "metadata": {},
   "source": [
    "### apply()\n",
    "\n",
    "Used for applying a function to rows or columns of a matrix or data frame.\n",
    "\n",
    "*Syntax:* apply(X, MARGIN, FUN)\n",
    "\n",
    "MARGIN = 1 → rows, MARGIN = 2 → columns"
   ]
  },
  {
   "cell_type": "code",
   "execution_count": 2,
   "id": "0fe415ec",
   "metadata": {
    "vscode": {
     "languageId": "r"
    }
   },
   "outputs": [
    {
     "name": "stdout",
     "output_type": "stream",
     "text": [
      "     [,1] [,2] [,3]\n",
      "[1,]    1    4    7\n",
      "[2,]    2    5    8\n",
      "[3,]    3    6    9\n"
     ]
    },
    {
     "data": {
      "text/html": [
       "<style>\n",
       ".list-inline {list-style: none; margin:0; padding: 0}\n",
       ".list-inline>li {display: inline-block}\n",
       ".list-inline>li:not(:last-child)::after {content: \"\\00b7\"; padding: 0 .5ex}\n",
       "</style>\n",
       "<ol class=list-inline><li>12</li><li>15</li><li>18</li></ol>\n"
      ],
      "text/latex": [
       "\\begin{enumerate*}\n",
       "\\item 12\n",
       "\\item 15\n",
       "\\item 18\n",
       "\\end{enumerate*}\n"
      ],
      "text/markdown": [
       "1. 12\n",
       "2. 15\n",
       "3. 18\n",
       "\n",
       "\n"
      ],
      "text/plain": [
       "[1] 12 15 18"
      ]
     },
     "metadata": {},
     "output_type": "display_data"
    },
    {
     "data": {
      "text/html": [
       "<style>\n",
       ".list-inline {list-style: none; margin:0; padding: 0}\n",
       ".list-inline>li {display: inline-block}\n",
       ".list-inline>li:not(:last-child)::after {content: \"\\00b7\"; padding: 0 .5ex}\n",
       "</style>\n",
       "<ol class=list-inline><li>2</li><li>5</li><li>8</li></ol>\n"
      ],
      "text/latex": [
       "\\begin{enumerate*}\n",
       "\\item 2\n",
       "\\item 5\n",
       "\\item 8\n",
       "\\end{enumerate*}\n"
      ],
      "text/markdown": [
       "1. 2\n",
       "2. 5\n",
       "3. 8\n",
       "\n",
       "\n"
      ],
      "text/plain": [
       "[1] 2 5 8"
      ]
     },
     "metadata": {},
     "output_type": "display_data"
    }
   ],
   "source": [
    "# Example matrix\n",
    "mat <- matrix(1:9, nrow = 3)\n",
    "print(mat)\n",
    "\n",
    "# Sum of each row\n",
    "apply(mat, 1, sum)\n",
    "\n",
    "# Mean of each column\n",
    "apply(mat, 2, mean)\n"
   ]
  },
  {
   "cell_type": "markdown",
   "id": "b6e5fff5",
   "metadata": {},
   "source": [
    "### lapply()\n",
    "\n",
    "Applies a function to each element of a list (or vector) and returns a list."
   ]
  },
  {
   "cell_type": "code",
   "execution_count": 3,
   "id": "e5d0d9df",
   "metadata": {
    "vscode": {
     "languageId": "r"
    }
   },
   "outputs": [
    {
     "name": "stdout",
     "output_type": "stream",
     "text": [
      "$a\n",
      "[1] 1 2 3 4 5\n",
      "\n",
      "$b\n",
      "[1]  6  7  8  9 10\n",
      "\n"
     ]
    },
    {
     "data": {
      "text/html": [
       "<dl>\n",
       "\t<dt>$a</dt>\n",
       "\t\t<dd>15</dd>\n",
       "\t<dt>$b</dt>\n",
       "\t\t<dd>40</dd>\n",
       "</dl>\n"
      ],
      "text/latex": [
       "\\begin{description}\n",
       "\\item[\\$a] 15\n",
       "\\item[\\$b] 40\n",
       "\\end{description}\n"
      ],
      "text/markdown": [
       "$a\n",
       ":   15\n",
       "$b\n",
       ":   40\n",
       "\n",
       "\n"
      ],
      "text/plain": [
       "$a\n",
       "[1] 15\n",
       "\n",
       "$b\n",
       "[1] 40\n"
      ]
     },
     "metadata": {},
     "output_type": "display_data"
    },
    {
     "data": {
      "text/html": [
       "<dl>\n",
       "\t<dt>$a</dt>\n",
       "\t\t<dd><style>\n",
       ".list-inline {list-style: none; margin:0; padding: 0}\n",
       ".list-inline>li {display: inline-block}\n",
       ".list-inline>li:not(:last-child)::after {content: \"\\00b7\"; padding: 0 .5ex}\n",
       "</style>\n",
       "<ol class=list-inline><li>1</li><li>4</li><li>9</li><li>16</li><li>25</li></ol>\n",
       "</dd>\n",
       "\t<dt>$b</dt>\n",
       "\t\t<dd><style>\n",
       ".list-inline {list-style: none; margin:0; padding: 0}\n",
       ".list-inline>li {display: inline-block}\n",
       ".list-inline>li:not(:last-child)::after {content: \"\\00b7\"; padding: 0 .5ex}\n",
       "</style>\n",
       "<ol class=list-inline><li>36</li><li>49</li><li>64</li><li>81</li><li>100</li></ol>\n",
       "</dd>\n",
       "</dl>\n"
      ],
      "text/latex": [
       "\\begin{description}\n",
       "\\item[\\$a] \\begin{enumerate*}\n",
       "\\item 1\n",
       "\\item 4\n",
       "\\item 9\n",
       "\\item 16\n",
       "\\item 25\n",
       "\\end{enumerate*}\n",
       "\n",
       "\\item[\\$b] \\begin{enumerate*}\n",
       "\\item 36\n",
       "\\item 49\n",
       "\\item 64\n",
       "\\item 81\n",
       "\\item 100\n",
       "\\end{enumerate*}\n",
       "\n",
       "\\end{description}\n"
      ],
      "text/markdown": [
       "$a\n",
       ":   1. 1\n",
       "2. 4\n",
       "3. 9\n",
       "4. 16\n",
       "5. 25\n",
       "\n",
       "\n",
       "\n",
       "$b\n",
       ":   1. 36\n",
       "2. 49\n",
       "3. 64\n",
       "4. 81\n",
       "5. 100\n",
       "\n",
       "\n",
       "\n",
       "\n",
       "\n"
      ],
      "text/plain": [
       "$a\n",
       "[1]  1  4  9 16 25\n",
       "\n",
       "$b\n",
       "[1]  36  49  64  81 100\n"
      ]
     },
     "metadata": {},
     "output_type": "display_data"
    }
   ],
   "source": [
    "vec <- list(a = 1:5, b = 6:10)\n",
    "print(vec)\n",
    "\n",
    "# Find sum of each element\n",
    "lapply(vec, sum)\n",
    "\n",
    "# Square each element\n",
    "lapply(vec, function(x) x^2)\n"
   ]
  },
  {
   "cell_type": "markdown",
   "id": "417ddabc",
   "metadata": {},
   "source": [
    "### sapply()\n",
    "\n",
    "Similar to lapply(), but tries to simplify the output to a vector or matrix instead of a list."
   ]
  },
  {
   "cell_type": "code",
   "execution_count": 5,
   "id": "ab669608",
   "metadata": {
    "vscode": {
     "languageId": "r"
    }
   },
   "outputs": [
    {
     "name": "stdout",
     "output_type": "stream",
     "text": [
      "$a\n",
      "[1] 1 2 3 4 5\n",
      "\n",
      "$b\n",
      "[1]  6  7  8  9 10\n",
      "\n"
     ]
    },
    {
     "data": {
      "text/html": [
       "<style>\n",
       ".dl-inline {width: auto; margin:0; padding: 0}\n",
       ".dl-inline>dt, .dl-inline>dd {float: none; width: auto; display: inline-block}\n",
       ".dl-inline>dt::after {content: \":\\0020\"; padding-right: .5ex}\n",
       ".dl-inline>dt:not(:first-of-type) {padding-left: .5ex}\n",
       "</style><dl class=dl-inline><dt>a</dt><dd>15</dd><dt>b</dt><dd>40</dd></dl>\n"
      ],
      "text/latex": [
       "\\begin{description*}\n",
       "\\item[a] 15\n",
       "\\item[b] 40\n",
       "\\end{description*}\n"
      ],
      "text/markdown": [
       "a\n",
       ":   15b\n",
       ":   40\n",
       "\n"
      ],
      "text/plain": [
       " a  b \n",
       "15 40 "
      ]
     },
     "metadata": {},
     "output_type": "display_data"
    },
    {
     "data": {
      "text/html": [
       "<style>\n",
       ".dl-inline {width: auto; margin:0; padding: 0}\n",
       ".dl-inline>dt, .dl-inline>dd {float: none; width: auto; display: inline-block}\n",
       ".dl-inline>dt::after {content: \":\\0020\"; padding-right: .5ex}\n",
       ".dl-inline>dt:not(:first-of-type) {padding-left: .5ex}\n",
       "</style><dl class=dl-inline><dt>a</dt><dd>3</dd><dt>b</dt><dd>8</dd></dl>\n"
      ],
      "text/latex": [
       "\\begin{description*}\n",
       "\\item[a] 3\n",
       "\\item[b] 8\n",
       "\\end{description*}\n"
      ],
      "text/markdown": [
       "a\n",
       ":   3b\n",
       ":   8\n",
       "\n"
      ],
      "text/plain": [
       "a b \n",
       "3 8 "
      ]
     },
     "metadata": {},
     "output_type": "display_data"
    }
   ],
   "source": [
    "vec <- list(a = 1:5, b = 6:10)\n",
    "print(vec)\n",
    "\n",
    "# Sum of each element (returns vector instead of list)\n",
    "sapply(vec, sum)\n",
    "\n",
    "# Mean of each element\n",
    "sapply(vec, mean)\n"
   ]
  },
  {
   "cell_type": "markdown",
   "id": "3fe589ae",
   "metadata": {},
   "source": [
    "### vapply()\n",
    "\n",
    "Similar to sapply(), but more strict because you must specify the output type.\n",
    "\n",
    "Safer for large scripts."
   ]
  },
  {
   "cell_type": "code",
   "execution_count": 6,
   "id": "04740097",
   "metadata": {
    "vscode": {
     "languageId": "r"
    }
   },
   "outputs": [
    {
     "data": {
      "text/html": [
       "<style>\n",
       ".dl-inline {width: auto; margin:0; padding: 0}\n",
       ".dl-inline>dt, .dl-inline>dd {float: none; width: auto; display: inline-block}\n",
       ".dl-inline>dt::after {content: \":\\0020\"; padding-right: .5ex}\n",
       ".dl-inline>dt:not(:first-of-type) {padding-left: .5ex}\n",
       "</style><dl class=dl-inline><dt>a</dt><dd>15</dd><dt>b</dt><dd>40</dd></dl>\n"
      ],
      "text/latex": [
       "\\begin{description*}\n",
       "\\item[a] 15\n",
       "\\item[b] 40\n",
       "\\end{description*}\n"
      ],
      "text/markdown": [
       "a\n",
       ":   15b\n",
       ":   40\n",
       "\n"
      ],
      "text/plain": [
       " a  b \n",
       "15 40 "
      ]
     },
     "metadata": {},
     "output_type": "display_data"
    }
   ],
   "source": [
    "vec <- list(a = 1:5, b = 6:10)\n",
    "\n",
    "# Explicitly expect numeric output\n",
    "vapply(vec, sum, numeric(1))\n"
   ]
  },
  {
   "cell_type": "markdown",
   "id": "41092cbc",
   "metadata": {},
   "source": [
    "### mapply()\n",
    "\n",
    "Multivariate version of sapply().\n",
    "\n",
    "Applies a function to multiple lists/vectors simultaneously."
   ]
  },
  {
   "cell_type": "code",
   "execution_count": 7,
   "id": "28e681df",
   "metadata": {
    "vscode": {
     "languageId": "r"
    }
   },
   "outputs": [
    {
     "data": {
      "text/html": [
       "<style>\n",
       ".list-inline {list-style: none; margin:0; padding: 0}\n",
       ".list-inline>li {display: inline-block}\n",
       ".list-inline>li:not(:last-child)::after {content: \"\\00b7\"; padding: 0 .5ex}\n",
       "</style>\n",
       "<ol class=list-inline><li>7</li><li>9</li><li>11</li><li>13</li><li>15</li></ol>\n"
      ],
      "text/latex": [
       "\\begin{enumerate*}\n",
       "\\item 7\n",
       "\\item 9\n",
       "\\item 11\n",
       "\\item 13\n",
       "\\item 15\n",
       "\\end{enumerate*}\n"
      ],
      "text/markdown": [
       "1. 7\n",
       "2. 9\n",
       "3. 11\n",
       "4. 13\n",
       "5. 15\n",
       "\n",
       "\n"
      ],
      "text/plain": [
       "[1]  7  9 11 13 15"
      ]
     },
     "metadata": {},
     "output_type": "display_data"
    }
   ],
   "source": [
    "# Add corresponding elements of two vectors\n",
    "mapply(sum, 1:5, 6:10)"
   ]
  },
  {
   "cell_type": "markdown",
   "id": "4442c9b6",
   "metadata": {},
   "source": [
    "### tapply()\n",
    "\n",
    "Applies a function to subsets of a vector, defined by a factor (grouped operation)."
   ]
  },
  {
   "cell_type": "code",
   "execution_count": 8,
   "id": "deea1b10",
   "metadata": {
    "vscode": {
     "languageId": "r"
    }
   },
   "outputs": [
    {
     "data": {
      "text/html": [
       "<style>\n",
       ".dl-inline {width: auto; margin:0; padding: 0}\n",
       ".dl-inline>dt, .dl-inline>dd {float: none; width: auto; display: inline-block}\n",
       ".dl-inline>dt::after {content: \":\\0020\"; padding-right: .5ex}\n",
       ".dl-inline>dt:not(:first-of-type) {padding-left: .5ex}\n",
       "</style><dl class=dl-inline><dt>A</dt><dd>15</dd><dt>B</dt><dd>35</dd><dt>C</dt><dd>55</dd></dl>\n"
      ],
      "text/latex": [
       "\\begin{description*}\n",
       "\\item[A] 15\n",
       "\\item[B] 35\n",
       "\\item[C] 55\n",
       "\\end{description*}\n"
      ],
      "text/markdown": [
       "A\n",
       ":   15B\n",
       ":   35C\n",
       ":   55\n",
       "\n"
      ],
      "text/plain": [
       " A  B  C \n",
       "15 35 55 "
      ]
     },
     "metadata": {},
     "output_type": "display_data"
    },
    {
     "data": {
      "text/html": [
       "<style>\n",
       ".dl-inline {width: auto; margin:0; padding: 0}\n",
       ".dl-inline>dt, .dl-inline>dd {float: none; width: auto; display: inline-block}\n",
       ".dl-inline>dt::after {content: \":\\0020\"; padding-right: .5ex}\n",
       ".dl-inline>dt:not(:first-of-type) {padding-left: .5ex}\n",
       "</style><dl class=dl-inline><dt>A</dt><dd>30</dd><dt>B</dt><dd>70</dd><dt>C</dt><dd>110</dd></dl>\n"
      ],
      "text/latex": [
       "\\begin{description*}\n",
       "\\item[A] 30\n",
       "\\item[B] 70\n",
       "\\item[C] 110\n",
       "\\end{description*}\n"
      ],
      "text/markdown": [
       "A\n",
       ":   30B\n",
       ":   70C\n",
       ":   110\n",
       "\n"
      ],
      "text/plain": [
       "  A   B   C \n",
       " 30  70 110 "
      ]
     },
     "metadata": {},
     "output_type": "display_data"
    }
   ],
   "source": [
    "# Example data\n",
    "values <- c(10, 20, 30, 40, 50, 60)\n",
    "groups <- factor(c(\"A\", \"A\", \"B\", \"B\", \"C\", \"C\"))\n",
    "\n",
    "# Mean by group\n",
    "tapply(values, groups, mean)\n",
    "\n",
    "# Sum by group\n",
    "tapply(values, groups, sum)\n"
   ]
  },
  {
   "cell_type": "markdown",
   "id": "2ac86363",
   "metadata": {},
   "source": [
    "## Summary \n",
    "\n",
    "| Function   | Input Type                  | Output Type                        | Use Case Example |\n",
    "|------------|-----------------------------|-------------------------------------|------------------|\n",
    "| **apply()**   | Matrix / Data frame         | Vector / Array                      | Row/column operations (e.g., row sums, column means) |\n",
    "| **lapply()**  | List / Vector               | **List**                            | Apply function to each list element, keep list structure |\n",
    "| **sapply()**  | List / Vector               | Simplified (Vector/Matrix/Array)    | Apply function and simplify result if possible |\n",
    "| **vapply()**  | List / Vector               | Pre-specified type (strict)         | Safer version of `sapply()` with defined output type |\n",
    "| **mapply()**  | Multiple vectors/lists      | Vector/List/Array                   | Apply function across multiple inputs simultaneously |\n",
    "| **tapply()**  | Vector + Factor (grouping)  | Array / List                        | Grouped summary statistics (e.g., mean by group) |\n"
   ]
  },
  {
   "cell_type": "markdown",
   "id": "39bbe70c",
   "metadata": {},
   "source": [
    "## Practice Questions\n",
    "\n",
    "1. Create a 4x4 matrix of numbers from 1 to 16. Use apply() to calculate the sum of each row."
   ]
  },
  {
   "cell_type": "code",
   "execution_count": 11,
   "id": "6d9cd47f",
   "metadata": {
    "vscode": {
     "languageId": "r"
    }
   },
   "outputs": [
    {
     "data": {
      "text/html": [
       "<style>\n",
       ".list-inline {list-style: none; margin:0; padding: 0}\n",
       ".list-inline>li {display: inline-block}\n",
       ".list-inline>li:not(:last-child)::after {content: \"\\00b7\"; padding: 0 .5ex}\n",
       "</style>\n",
       "<ol class=list-inline><li>28</li><li>32</li><li>36</li><li>40</li></ol>\n"
      ],
      "text/latex": [
       "\\begin{enumerate*}\n",
       "\\item 28\n",
       "\\item 32\n",
       "\\item 36\n",
       "\\item 40\n",
       "\\end{enumerate*}\n"
      ],
      "text/markdown": [
       "1. 28\n",
       "2. 32\n",
       "3. 36\n",
       "4. 40\n",
       "\n",
       "\n"
      ],
      "text/plain": [
       "[1] 28 32 36 40"
      ]
     },
     "metadata": {},
     "output_type": "display_data"
    }
   ],
   "source": [
    "mat<-matrix(1:16, nrow=4)\n",
    "apply(mat, 1, sum)"
   ]
  },
  {
   "cell_type": "markdown",
   "id": "bc7f3d06",
   "metadata": {},
   "source": [
    "2. Given a list of numeric vectors: list(a = 1:5, b = 6:10, c = 11:15), use lapply() to calculate the mean of each vector."
   ]
  },
  {
   "cell_type": "code",
   "execution_count": 12,
   "id": "fed7b1a0",
   "metadata": {
    "vscode": {
     "languageId": "r"
    }
   },
   "outputs": [
    {
     "data": {
      "text/html": [
       "<dl>\n",
       "\t<dt>$a</dt>\n",
       "\t\t<dd>3</dd>\n",
       "\t<dt>$b</dt>\n",
       "\t\t<dd>8</dd>\n",
       "\t<dt>$c</dt>\n",
       "\t\t<dd>13</dd>\n",
       "</dl>\n"
      ],
      "text/latex": [
       "\\begin{description}\n",
       "\\item[\\$a] 3\n",
       "\\item[\\$b] 8\n",
       "\\item[\\$c] 13\n",
       "\\end{description}\n"
      ],
      "text/markdown": [
       "$a\n",
       ":   3\n",
       "$b\n",
       ":   8\n",
       "$c\n",
       ":   13\n",
       "\n",
       "\n"
      ],
      "text/plain": [
       "$a\n",
       "[1] 3\n",
       "\n",
       "$b\n",
       "[1] 8\n",
       "\n",
       "$c\n",
       "[1] 13\n"
      ]
     },
     "metadata": {},
     "output_type": "display_data"
    }
   ],
   "source": [
    "vec<-list(a=1:5, b=6:10, c=11:15)\n",
    "lapply(vec,mean)"
   ]
  },
  {
   "cell_type": "markdown",
   "id": "a3f28c9f",
   "metadata": {},
   "source": [
    "3. Take the same list (list(a = 1:5, b = 6:10, c = 11:15)). Use sapply() to find the maximum value in each vector, and observe how the output differs from lapply()."
   ]
  },
  {
   "cell_type": "code",
   "execution_count": 13,
   "id": "7759a445",
   "metadata": {
    "vscode": {
     "languageId": "r"
    }
   },
   "outputs": [
    {
     "data": {
      "text/html": [
       "<style>\n",
       ".dl-inline {width: auto; margin:0; padding: 0}\n",
       ".dl-inline>dt, .dl-inline>dd {float: none; width: auto; display: inline-block}\n",
       ".dl-inline>dt::after {content: \":\\0020\"; padding-right: .5ex}\n",
       ".dl-inline>dt:not(:first-of-type) {padding-left: .5ex}\n",
       "</style><dl class=dl-inline><dt>a</dt><dd>5</dd><dt>b</dt><dd>10</dd><dt>c</dt><dd>15</dd></dl>\n"
      ],
      "text/latex": [
       "\\begin{description*}\n",
       "\\item[a] 5\n",
       "\\item[b] 10\n",
       "\\item[c] 15\n",
       "\\end{description*}\n"
      ],
      "text/markdown": [
       "a\n",
       ":   5b\n",
       ":   10c\n",
       ":   15\n",
       "\n"
      ],
      "text/plain": [
       " a  b  c \n",
       " 5 10 15 "
      ]
     },
     "metadata": {},
     "output_type": "display_data"
    }
   ],
   "source": [
    "sapply(vec, max)"
   ]
  },
  {
   "cell_type": "markdown",
   "id": "4a1381d7",
   "metadata": {},
   "source": [
    "4. Using the same list (list(a = 1:5, b = 6:10, c = 11:15)), use vapply() to calculate the sum of each vector, explicitly specifying that the output should be numeric(1)."
   ]
  },
  {
   "cell_type": "code",
   "execution_count": 14,
   "id": "57fed20a",
   "metadata": {
    "vscode": {
     "languageId": "r"
    }
   },
   "outputs": [
    {
     "data": {
      "text/html": [
       "<style>\n",
       ".dl-inline {width: auto; margin:0; padding: 0}\n",
       ".dl-inline>dt, .dl-inline>dd {float: none; width: auto; display: inline-block}\n",
       ".dl-inline>dt::after {content: \":\\0020\"; padding-right: .5ex}\n",
       ".dl-inline>dt:not(:first-of-type) {padding-left: .5ex}\n",
       "</style><dl class=dl-inline><dt>a</dt><dd>15</dd><dt>b</dt><dd>40</dd><dt>c</dt><dd>65</dd></dl>\n"
      ],
      "text/latex": [
       "\\begin{description*}\n",
       "\\item[a] 15\n",
       "\\item[b] 40\n",
       "\\item[c] 65\n",
       "\\end{description*}\n"
      ],
      "text/markdown": [
       "a\n",
       ":   15b\n",
       ":   40c\n",
       ":   65\n",
       "\n"
      ],
      "text/plain": [
       " a  b  c \n",
       "15 40 65 "
      ]
     },
     "metadata": {},
     "output_type": "display_data"
    }
   ],
   "source": [
    "vapply(vec, sum, numeric(1))"
   ]
  },
  {
   "cell_type": "markdown",
   "id": "ab4fd7c8",
   "metadata": {},
   "source": [
    "5. You have two vectors: x <- 1:5 and y <- 6:10. Use mapply() to compute (x + y)^2 for each pair of elements."
   ]
  },
  {
   "cell_type": "code",
   "execution_count": 18,
   "id": "fef587e2",
   "metadata": {
    "vscode": {
     "languageId": "r"
    }
   },
   "outputs": [
    {
     "data": {
      "text/html": [
       "<style>\n",
       ".list-inline {list-style: none; margin:0; padding: 0}\n",
       ".list-inline>li {display: inline-block}\n",
       ".list-inline>li:not(:last-child)::after {content: \"\\00b7\"; padding: 0 .5ex}\n",
       "</style>\n",
       "<ol class=list-inline><li>49</li><li>81</li><li>121</li><li>169</li><li>225</li></ol>\n"
      ],
      "text/latex": [
       "\\begin{enumerate*}\n",
       "\\item 49\n",
       "\\item 81\n",
       "\\item 121\n",
       "\\item 169\n",
       "\\item 225\n",
       "\\end{enumerate*}\n"
      ],
      "text/markdown": [
       "1. 49\n",
       "2. 81\n",
       "3. 121\n",
       "4. 169\n",
       "5. 225\n",
       "\n",
       "\n"
      ],
      "text/plain": [
       "[1]  49  81 121 169 225"
      ]
     },
     "metadata": {},
     "output_type": "display_data"
    }
   ],
   "source": [
    "x <- 1:5\n",
    "y <- 6:10\n",
    "\n",
    "# Use mapply to compute (x + y)^2\n",
    "mapply(function(x, y) (x + y)^2, x, y)"
   ]
  },
  {
   "cell_type": "markdown",
   "id": "f049d1fe",
   "metadata": {},
   "source": [
    "6. Given a numeric vector of exam scores:\n",
    "\n",
    "scores <- c(85, 90, 78, 88, 95, 80)  \n",
    "groups <- factor(c(\"Math\", \"Math\", \"Science\", \"Science\", \"English\", \"English\"))\n",
    "\n",
    "\n",
    "Use tapply() to calculate the average score for each subject."
   ]
  },
  {
   "cell_type": "code",
   "execution_count": 16,
   "id": "85043ed2",
   "metadata": {
    "vscode": {
     "languageId": "r"
    }
   },
   "outputs": [
    {
     "data": {
      "text/html": [
       "<style>\n",
       ".dl-inline {width: auto; margin:0; padding: 0}\n",
       ".dl-inline>dt, .dl-inline>dd {float: none; width: auto; display: inline-block}\n",
       ".dl-inline>dt::after {content: \":\\0020\"; padding-right: .5ex}\n",
       ".dl-inline>dt:not(:first-of-type) {padding-left: .5ex}\n",
       "</style><dl class=dl-inline><dt>English</dt><dd>87.5</dd><dt>Math</dt><dd>87.5</dd><dt>Science</dt><dd>83</dd></dl>\n"
      ],
      "text/latex": [
       "\\begin{description*}\n",
       "\\item[English] 87.5\n",
       "\\item[Math] 87.5\n",
       "\\item[Science] 83\n",
       "\\end{description*}\n"
      ],
      "text/markdown": [
       "English\n",
       ":   87.5Math\n",
       ":   87.5Science\n",
       ":   83\n",
       "\n"
      ],
      "text/plain": [
       "English    Math Science \n",
       "   87.5    87.5    83.0 "
      ]
     },
     "metadata": {},
     "output_type": "display_data"
    }
   ],
   "source": [
    "scores <- c(85, 90, 78, 88, 95, 80)  \n",
    "groups <- factor(c(\"Math\", \"Math\", \"Science\", \"Science\", \"English\", \"English\"))\n",
    "\n",
    "tapply(scores, groups, mean)"
   ]
  }
 ],
 "metadata": {
  "kernelspec": {
   "display_name": "R",
   "language": "R",
   "name": "ir"
  },
  "language_info": {
   "codemirror_mode": "r",
   "file_extension": ".r",
   "mimetype": "text/x-r-source",
   "name": "R",
   "pygments_lexer": "r",
   "version": "4.3.1"
  }
 },
 "nbformat": 4,
 "nbformat_minor": 5
}
