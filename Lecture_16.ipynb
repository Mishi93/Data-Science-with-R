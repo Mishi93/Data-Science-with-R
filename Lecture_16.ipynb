{
 "cells": [
  {
   "attachments": {
    "image.png": {
     "image/png": "[encoded data removed]"
    }
   },
   "cell_type": "markdown",
   "id": "9db6ebe8",
   "metadata": {},
   "source": [
    "# Regression in Statistics & Machine Learning\n",
    "\n",
    "Regression is a supervised learning technique used to model the relationship between a dependent variable (target, Y) and one or more independent variables (features, X).\n",
    "\n",
    "## Types of Regression\n",
    "### Linear Regression\n",
    "\n",
    "Models the relationship as a straight line.\n",
    "\n",
    "**Equation:** \n",
    "![image.png](attachment:image.png)\n",
    "\n",
    "**Use case:** Predicting house prices, sales forecasts.\n"
   ]
  },
  {
   "cell_type": "code",
   "execution_count": 7,
   "id": "daa83d7f",
   "metadata": {
    "vscode": {
     "languageId": "r"
    }
   },
   "outputs": [
    {
     "name": "stdout",
     "output_type": "stream",
     "text": [
      "    Name Sex Age Height Weight\n",
      "1    Ali   M  16    160     55\n",
      "2   Sara   F  15    150     48\n",
      "3   John   M  17    170     65\n",
      "4 Ayesha   F  16    155     50\n",
      "5  Bilal   M  15    165     60\n"
     ]
    },
    {
     "data": {
      "text/plain": [
       "\n",
       "Call:\n",
       "lm(formula = Weight ~ Height, data = data)\n",
       "\n",
       "Residuals:\n",
       "         1          2          3          4          5 \n",
       "-6.000e-01  1.200e+00  6.000e-01 -1.200e+00  4.219e-15 \n",
       "\n",
       "Coefficients:\n",
       "             Estimate Std. Error t value Pr(>|t|)   \n",
       "(Intercept) -85.20000   11.09595  -7.678  0.00459 **\n",
       "Height        0.88000    0.06928  12.702  0.00105 **\n",
       "---\n",
       "Signif. codes:  0 '***' 0.001 '**' 0.01 '*' 0.05 '.' 0.1 ' ' 1\n",
       "\n",
       "Residual standard error: 1.095 on 3 degrees of freedom\n",
       "Multiple R-squared:  0.9817,\tAdjusted R-squared:  0.9757 \n",
       "F-statistic: 161.3 on 1 and 3 DF,  p-value: 0.001053\n"
      ]
     },
     "metadata": {},
     "output_type": "display_data"
    },
    {
     "data": {
      "image/png": "[encoded data removed]",
      "text/plain": [
       "Plot with title \"Simple Linear Regression: Height vs Weight\""
      ]
     },
     "metadata": {
      "image/png": {
       "height": 420,
       "width": 420
      }
     },
     "output_type": "display_data"
    }
   ],
   "source": [
    "# Sample dataset\n",
    "data <- data.frame(\n",
    "  Name = c(\"Ali\", \"Sara\", \"John\", \"Ayesha\", \"Bilal\"),\n",
    "  Sex = c(\"M\", \"F\", \"M\", \"F\", \"M\"),\n",
    "  Age = c(16, 15, 17, 16, 15),\n",
    "  Height = c(160, 150, 170, 155, 165),\n",
    "  Weight = c(55, 48, 65, 50, 60)\n",
    ")\n",
    "\n",
    "# View dataset\n",
    "print(data)\n",
    "\n",
    "# Simple Linear Regression model: Weight ~ Height\n",
    "model <- lm(Weight ~ Height, data = data)\n",
    "\n",
    "# Summary of regression (coefficients, R², etc.)\n",
    "summary(model)\n",
    "\n",
    "# Scatter plot with regression line\n",
    "plot(data$Height, data$Weight, \n",
    "     main = \"Simple Linear Regression: Height vs Weight\",\n",
    "     xlab = \"Height (cm)\", ylab = \"Weight (kg)\",\n",
    "     pch = 19, col = \"blue\")\n",
    "abline(model, col = \"red\", lwd = 2)\n"
   ]
  },
  {
   "cell_type": "code",
   "execution_count": 9,
   "id": "156dfeec",
   "metadata": {
    "vscode": {
     "languageId": "r"
    }
   },
   "outputs": [
    {
     "name": "stderr",
     "output_type": "stream",
     "text": [
      "Warning message:\n",
      "\"package 'Metrics' is in use and will not be installed\"\n"
     ]
    },
    {
     "name": "stdout",
     "output_type": "stream",
     "text": [
      "Mean Absolute Error (MAE): 0.72 \n",
      "Mean Squared Error (MSE): 0.72 \n",
      "Root Mean Squared Error (RMSE): 0.8485281 \n",
      "R-squared (R²): 0.9817444 \n"
     ]
    }
   ],
   "source": [
    "# Install package if not installed\n",
    "install.packages(\"Metrics\")\n",
    "\n",
    "# Load Metrics package\n",
    "library(Metrics)\n",
    "\n",
    "# Predictions on training data\n",
    "pred <- predict(model, newdata = data)\n",
    "actual <- data$Weight\n",
    "\n",
    "# Evaluation metrics\n",
    "mae_val <- mae(actual, pred)\n",
    "mse_val <- mse(actual, pred)\n",
    "rmse_val <- rmse(actual, pred)\n",
    "r2_val <- summary(model)$r.squared\n",
    "\n",
    "# Print results\n",
    "cat(\"Mean Absolute Error (MAE):\", mae_val, \"\\n\")\n",
    "cat(\"Mean Squared Error (MSE):\", mse_val, \"\\n\")\n",
    "cat(\"Root Mean Squared Error (RMSE):\", rmse_val, \"\\n\")\n",
    "cat(\"R-squared (R²):\", r2_val, \"\\n\")\n"
   ]
  },
  {
   "attachments": {
    "image.png": {
     "image/png": "[encoded data removed]"
    }
   },
   "cell_type": "markdown",
   "id": "94528dac",
   "metadata": {},
   "source": [
    "### Multiple Linear Regression\n",
    "\n",
    "Extension of linear regression with multiple predictors.\n",
    "\n",
    "**Equation:**\n",
    "![image.png](attachment:image.png)"
   ]
  },
  {
   "cell_type": "code",
   "execution_count": 5,
   "id": "aaa27364",
   "metadata": {
    "vscode": {
     "languageId": "r"
    }
   },
   "outputs": [
    {
     "name": "stdout",
     "output_type": "stream",
     "text": [
      "'data.frame':\t506 obs. of  14 variables:\n",
      " $ crim   : num  0.00632 0.02731 0.02729 0.03237 0.06905 ...\n",
      " $ zn     : num  18 0 0 0 0 0 12.5 12.5 12.5 12.5 ...\n",
      " $ indus  : num  2.31 7.07 7.07 2.18 2.18 2.18 7.87 7.87 7.87 7.87 ...\n",
      " $ chas   : int  0 0 0 0 0 0 0 0 0 0 ...\n",
      " $ nox    : num  0.538 0.469 0.469 0.458 0.458 0.458 0.524 0.524 0.524 0.524 ...\n",
      " $ rm     : num  6.58 6.42 7.18 7 7.15 ...\n",
      " $ age    : num  65.2 78.9 61.1 45.8 54.2 58.7 66.6 96.1 100 85.9 ...\n",
      " $ dis    : num  4.09 4.97 4.97 6.06 6.06 ...\n",
      " $ rad    : int  1 2 2 3 3 3 5 5 5 5 ...\n",
      " $ tax    : num  296 242 242 222 222 222 311 311 311 311 ...\n",
      " $ ptratio: num  15.3 17.8 17.8 18.7 18.7 18.7 15.2 15.2 15.2 15.2 ...\n",
      " $ black  : num  397 397 393 395 397 ...\n",
      " $ lstat  : num  4.98 9.14 4.03 2.94 5.33 ...\n",
      " $ medv   : num  24 21.6 34.7 33.4 36.2 28.7 22.9 27.1 16.5 18.9 ...\n"
     ]
    },
    {
     "data": {
      "text/plain": [
       "\n",
       "Call:\n",
       "lm(formula = medv ~ rm + lstat + ptratio + crim + nox, data = Boston)\n",
       "\n",
       "Residuals:\n",
       "     Min       1Q   Median       3Q      Max \n",
       "-14.2742  -3.1251  -0.9575   1.6719  30.3918 \n",
       "\n",
       "Coefficients:\n",
       "            Estimate Std. Error t value Pr(>|t|)    \n",
       "(Intercept) 17.46891    4.11629   4.244 2.62e-05 ***\n",
       "rm           4.63324    0.42841  10.815  < 2e-16 ***\n",
       "lstat       -0.52224    0.05129 -10.181  < 2e-16 ***\n",
       "ptratio     -0.89354    0.11915  -7.500 2.94e-13 ***\n",
       "crim        -0.06198    0.03155  -1.965    0.050 .  \n",
       "nox         -1.31902    2.55265  -0.517    0.606    \n",
       "---\n",
       "Signif. codes:  0 '***' 0.001 '**' 0.01 '*' 0.05 '.' 0.1 ' ' 1\n",
       "\n",
       "Residual standard error: 5.215 on 500 degrees of freedom\n",
       "Multiple R-squared:  0.6817,\tAdjusted R-squared:  0.6785 \n",
       "F-statistic: 214.1 on 5 and 500 DF,  p-value: < 2.2e-16\n"
      ]
     },
     "metadata": {},
     "output_type": "display_data"
    },
    {
     "data": {
      "image/png": "[encoded data removed]",
      "text/plain": [
       "Plot with title \"Pupil-Teacher Ratio vs Price\""
      ]
     },
     "metadata": {
      "image/png": {
       "height": 420,
       "width": 420
      }
     },
     "output_type": "display_data"
    }
   ],
   "source": [
    "# Load dataset (in MASS package)\n",
    "library(MASS)\n",
    "data(\"Boston\")\n",
    "\n",
    "# Check structure\n",
    "str(Boston)\n",
    "\n",
    "# Simple linear regression with strong predictors\n",
    "model <- lm(medv ~ rm + lstat + ptratio + crim + nox, data = Boston)\n",
    "summary(model)\n",
    "\n",
    "# Plot relationship between key predictors and price\n",
    "par(mfrow=c(2,2))\n",
    "plot(Boston$rm, Boston$medv, main=\"Rooms vs Price\", xlab=\"Average Rooms\", ylab=\"Price\", pch=19, col=\"blue\")\n",
    "abline(lm(medv ~ rm, data=Boston), col=\"red\")\n",
    "\n",
    "plot(Boston$lstat, Boston$medv, main=\"Lower Status % vs Price\", xlab=\"% Lower Status Population\", ylab=\"Price\", pch=19, col=\"blue\")\n",
    "abline(lm(medv ~ lstat, data=Boston), col=\"red\")\n",
    "\n",
    "plot(Boston$crim, Boston$medv, main=\"Crime Rate vs Price\", xlab=\"Crime Rate\", ylab=\"Price\", pch=19, col=\"blue\")\n",
    "\n",
    "plot(Boston$ptratio, Boston$medv, main=\"Pupil-Teacher Ratio vs Price\", xlab=\"PTRATIO\", ylab=\"Price\", pch=19, col=\"blue\")\n"
   ]
  },
  {
   "cell_type": "code",
   "execution_count": 6,
   "id": "76715de0",
   "metadata": {
    "vscode": {
     "languageId": "r"
    }
   },
   "outputs": [
    {
     "name": "stdout",
     "output_type": "stream",
     "text": [
      "Mean Absolute Error (MAE): 3.595151 \n",
      "Mean Squared Error (MSE): 26.87392 \n",
      "Root Mean Squared Error (RMSE): 5.184007 \n",
      "R-squared (R²): 0.6816623 \n"
     ]
    }
   ],
   "source": [
    "# Predictions\n",
    "pred <- predict(model, newdata = Boston)\n",
    "actual <- Boston$medv\n",
    "\n",
    "# Evaluation metrics\n",
    "mae_val <- mae(actual, pred)\n",
    "mse_val <- mse(actual, pred)\n",
    "rmse_val <- rmse(actual, pred)\n",
    "r2_val <- summary(model)$r.squared\n",
    "\n",
    "# Print results\n",
    "cat(\"Mean Absolute Error (MAE):\", mae_val, \"\\n\")\n",
    "cat(\"Mean Squared Error (MSE):\", mse_val, \"\\n\")\n",
    "cat(\"Root Mean Squared Error (RMSE):\", rmse_val, \"\\n\")\n",
    "cat(\"R-squared (R²):\", r2_val, \"\\n\")\n"
   ]
  },
  {
   "attachments": {
    "image.png": {
     "image/png": "[encoded data removed]"
    }
   },
   "cell_type": "markdown",
   "id": "6e25da5c",
   "metadata": {},
   "source": [
    "### Polynomial Regression\n",
    "\n",
    "Fits a curve (higher-order polynomial) instead of a line.\n",
    "\n",
    "**Equation:**\n",
    "\n",
    "![image.png](attachment:image.png)  \n",
    "\n",
    "**Use case:** Modeling non-linear trends."
   ]
  },
  {
   "cell_type": "code",
   "execution_count": 10,
   "id": "4e1334d0",
   "metadata": {
    "vscode": {
     "languageId": "r"
    }
   },
   "outputs": [
    {
     "data": {
      "text/plain": [
       "\n",
       "Call:\n",
       "lm(formula = Weight ~ poly(Height, 2, raw = TRUE), data = data)\n",
       "\n",
       "Residuals:\n",
       "      1       2       3       4       5 \n",
       " 0.2571  0.3429 -0.2571 -0.7714  0.4286 \n",
       "\n",
       "Coefficients:\n",
       "                               Estimate Std. Error t value Pr(>|t|)\n",
       "(Intercept)                  352.800000 196.014198   1.800    0.214\n",
       "poly(Height, 2, raw = TRUE)1  -4.605714   2.453705  -1.877    0.201\n",
       "poly(Height, 2, raw = TRUE)2   0.017143   0.007667   2.236    0.155\n",
       "\n",
       "Residual standard error: 0.7171 on 2 degrees of freedom\n",
       "Multiple R-squared:  0.9948,\tAdjusted R-squared:  0.9896 \n",
       "F-statistic: 190.7 on 2 and 2 DF,  p-value: 0.005216\n"
      ]
     },
     "metadata": {},
     "output_type": "display_data"
    },
    {
     "name": "stdout",
     "output_type": "stream",
     "text": [
      "       1        2        3 \n",
      "47.65714 54.74286 65.25714 \n"
     ]
    },
    {
     "data": {
      "image/png": "[encoded data removed]",
      "text/plain": [
       "Plot with title \"Polynomial Regression: Height vs Weight\""
      ]
     },
     "metadata": {
      "image/png": {
       "height": 420,
       "width": 420
      }
     },
     "output_type": "display_data"
    }
   ],
   "source": [
    "# Sample dataset\n",
    "data <- data.frame(\n",
    "  Name = c(\"Ali\", \"Sara\", \"John\", \"Ayesha\", \"Bilal\"),\n",
    "  Sex = c(\"M\", \"F\", \"M\", \"F\", \"M\"),\n",
    "  Age = c(16, 15, 17, 16, 15),\n",
    "  Height = c(160, 150, 170, 155, 165),\n",
    "  Weight = c(55, 48, 65, 50, 60)\n",
    ")\n",
    "\n",
    "# Polynomial Regression (quadratic)\n",
    "poly_model <- lm(Weight ~ poly(Height, 2, raw = TRUE), data = data)\n",
    "\n",
    "# Summary of model\n",
    "summary(poly_model)\n",
    "\n",
    "# Predict for new heights\n",
    "new_heights <- data.frame(Height = c(150, 160, 170))\n",
    "pred_poly <- predict(poly_model, newdata = new_heights)\n",
    "print(pred_poly)\n",
    "\n",
    "# Plot data + polynomial regression curve\n",
    "plot(data$Height, data$Weight, \n",
    "     main = \"Polynomial Regression: Height vs Weight\",\n",
    "     xlab = \"Height (cm)\", ylab = \"Weight (kg)\",\n",
    "     pch = 19, col = \"blue\")\n",
    "\n",
    "# Add regression curve\n",
    "height_seq <- seq(min(data$Height), max(data$Height), length.out = 100)\n",
    "lines(height_seq, predict(poly_model, newdata = data.frame(Height = height_seq)), \n",
    "      col = \"red\", lwd = 2)\n"
   ]
  },
  {
   "cell_type": "code",
   "execution_count": 11,
   "id": "0fc4d495",
   "metadata": {
    "vscode": {
     "languageId": "r"
    }
   },
   "outputs": [
    {
     "name": "stdout",
     "output_type": "stream",
     "text": [
      "Polynomial Regression Evaluation:\n",
      "Mean Absolute Error (MAE): 0.4114286 \n",
      "Mean Squared Error (MSE): 0.2057143 \n",
      "Root Mean Squared Error (RMSE): 0.4535574 \n",
      "R-squared (R²): 0.9947841 \n"
     ]
    }
   ],
   "source": [
    "# Predictions on training data\n",
    "pred_poly <- predict(poly_model, newdata = data)\n",
    "actual <- data$Weight\n",
    "\n",
    "# Evaluation metrics\n",
    "mae_poly <- mae(actual, pred_poly)\n",
    "mse_poly <- mse(actual, pred_poly)\n",
    "rmse_poly <- rmse(actual, pred_poly)\n",
    "r2_poly <- summary(poly_model)$r.squared\n",
    "\n",
    "# Print results\n",
    "cat(\"Polynomial Regression Evaluation:\\n\")\n",
    "cat(\"Mean Absolute Error (MAE):\", mae_poly, \"\\n\")\n",
    "cat(\"Mean Squared Error (MSE):\", mse_poly, \"\\n\")\n",
    "cat(\"Root Mean Squared Error (RMSE):\", rmse_poly, \"\\n\")\n",
    "cat(\"R-squared (R²):\", r2_poly, \"\\n\")\n"
   ]
  },
  {
   "cell_type": "markdown",
   "id": "2faa46b5",
   "metadata": {},
   "source": [
    "## Summary\n",
    "### Regression Types and Formulae \n",
    "*Notation:* `Y` = response, `X` = predictor, `b0, b1, ...` = coefficients, `e` = error.\n",
    "\n",
    "| Regression Type              | Model Formula                              | Linearizable Form (if applicable)     | Notes |\n",
    "|----------------------------- |------------------------------------------- |---------------------------------------|-------|\n",
    "| Simple Linear                | Y = b0 + b1*X + e                          | —                                     | — |\n",
    "| Multiple Linear              | Y = b0 + b1*X1 + b2*X2 + … + bp*Xp + e     | —                                     | — |\n",
    "| Polynomial (degree n)        | Y = b0 + b1*X + b2*X^2 + … + bn*X^n + e    | — (fit by adding X, X^2, …, X^n)      | Watch for overfitting at high n |\n",
    "| Logarithmic                  | Y = b0 + b1*ln(X) + e                      | — (use ln(X) as the feature)          | Requires X > 0 |\n",
    "| Square Root                  | Y = b0 + b1*sqrt(X) + e                    | — (use sqrt(X) as the feature)        | Typically X ≥ 0 |\n",
    "| Reciprocal                   | Y = b0 + b1*(1/X) + e                      | — (use 1/X as the feature)            | X ≠ 0 |\n",
    "| Exponential                  | Y = a * exp(b*X) + e                       | ln(Y) = ln(a) + b*X + error           | Requires Y > 0 for log transform |\n"
   ]
  },
  {
   "cell_type": "markdown",
   "id": "c063615f",
   "metadata": {},
   "source": [
    "### Regression Evaluation Metrics\n",
    "\n",
    "*Notation:*  \n",
    "- `Yi` = actual value  \n",
    "- `Ŷi` = predicted value  \n",
    "- `n` = number of observations  \n",
    "- `Ȳ` = mean of actual values  \n",
    "\n",
    "| Metric                          | Formula                                                                                  | Interpretation                                                                 |\n",
    "|--------------------------------|------------------------------------------------------------------------------------------|--------------------------------------------------------------------------------|\n",
    "| **Mean Absolute Error (MAE)**   | MAE = (1/n) Σ |Yi - Ŷi|                                                                   | Average absolute error; easy to interpret, less sensitive to outliers.         |\n",
    "| **Mean Squared Error (MSE)**    | MSE = (1/n) Σ (Yi - Ŷi)²                                                                 | Penalizes larger errors more (due to squaring).                               |\n",
    "| **Root Mean Squared Error (RMSE)** | RMSE = √[(1/n) Σ (Yi - Ŷi)²]                                                           | Square root of MSE; same units as target variable, widely used.               |\n",
    "| **R-squared (R²)**              | R² = 1 - [Σ (Yi - Ŷi)² / Σ (Yi - Ȳ)²]                                                    | Proportion of variance explained by the model (0 ≤ R² ≤ 1).                   |\n",
    "| **Adjusted R-squared**          | Adj R² = 1 - [(1 - R²)(n - 1) / (n - p - 1)]                                             | Adjusts R² for number of predictors; prevents artificial inflation.           |\n",
    "| **Mean Absolute Percentage Error (MAPE)** | MAPE = (100/n) Σ |(Yi - Ŷi) / Yi|                                             | Percentage error; interpretable but unstable when Yi ≈ 0.                      |\n"
   ]
  }
 ],
 "metadata": {
  "kernelspec": {
   "display_name": "R",
   "language": "R",
   "name": "ir"
  },
  "language_info": {
   "codemirror_mode": "r",
   "file_extension": ".r",
   "mimetype": "text/x-r-source",
   "name": "R",
   "pygments_lexer": "r",
   "version": "4.3.1"
  }
 },
 "nbformat": 4,
 "nbformat_minor": 5
}
