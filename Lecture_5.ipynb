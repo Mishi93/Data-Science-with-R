{
 "cells": [
  {
   "cell_type": "markdown",
   "id": "227baec3",
   "metadata": {},
   "source": [
    "# Data Structures in R\n",
    "R provides several fundamental data structures that are essential for organizing and manipulating data. Understanding these structures is crucial for effective data analysis and programming in R.\n",
    "\n",
    "## Main Types of Data Structures in R\n",
    "### Vectors\n",
    "The most basic data structure in R - a sequence of elements of the same type."
   ]
  },
  {
   "cell_type": "code",
   "execution_count": 1,
   "id": "c45f45a6",
   "metadata": {
    "vscode": {
     "languageId": "r"
    }
   },
   "outputs": [
    {
     "data": {
      "text/html": [
       "3"
      ],
      "text/latex": [
       "3"
      ],
      "text/markdown": [
       "3"
      ],
      "text/plain": [
       "[1] 3"
      ]
     },
     "metadata": {},
     "output_type": "display_data"
    },
    {
     "data": {
      "text/html": [
       "<style>\n",
       ".list-inline {list-style: none; margin:0; padding: 0}\n",
       ".list-inline>li {display: inline-block}\n",
       ".list-inline>li:not(:last-child)::after {content: \"\\00b7\"; padding: 0 .5ex}\n",
       "</style>\n",
       "<ol class=list-inline><li>'apple'</li><li>'banana'</li></ol>\n"
      ],
      "text/latex": [
       "\\begin{enumerate*}\n",
       "\\item 'apple'\n",
       "\\item 'banana'\n",
       "\\end{enumerate*}\n"
      ],
      "text/markdown": [
       "1. 'apple'\n",
       "2. 'banana'\n",
       "\n",
       "\n"
      ],
      "text/plain": [
       "[1] \"apple\"  \"banana\""
      ]
     },
     "metadata": {},
     "output_type": "display_data"
    },
    {
     "data": {
      "text/html": [
       "<style>\n",
       ".list-inline {list-style: none; margin:0; padding: 0}\n",
       ".list-inline>li {display: inline-block}\n",
       ".list-inline>li:not(:last-child)::after {content: \"\\00b7\"; padding: 0 .5ex}\n",
       "</style>\n",
       "<ol class=list-inline><li>5</li><li>7</li><li>9</li></ol>\n"
      ],
      "text/latex": [
       "\\begin{enumerate*}\n",
       "\\item 5\n",
       "\\item 7\n",
       "\\item 9\n",
       "\\end{enumerate*}\n"
      ],
      "text/markdown": [
       "1. 5\n",
       "2. 7\n",
       "3. 9\n",
       "\n",
       "\n"
      ],
      "text/plain": [
       "[1] 5 7 9"
      ]
     },
     "metadata": {},
     "output_type": "display_data"
    }
   ],
   "source": [
    "# Creating vectors\n",
    "numeric_vector <- c(1, 2, 3, 4, 5)\n",
    "character_vector <- c(\"apple\", \"banana\", \"cherry\")\n",
    "logical_vector <- c(TRUE, FALSE, TRUE)\n",
    "\n",
    "# Accessing elements\n",
    "numeric_vector[3]  # Returns 3\n",
    "character_vector[1:2]  # Returns \"apple\" \"banana\"\n",
    "\n",
    "# Vector operations\n",
    "v1 <- c(1, 2, 3)\n",
    "v2 <- c(4, 5, 6)\n",
    "v1 + v2  # Element-wise addition: 5 7 9"
   ]
  },
  {
   "cell_type": "markdown",
   "id": "afcccfe8",
   "metadata": {},
   "source": [
    "### Matrices\n",
    "Two-dimensional, homogeneous data structures (all elements same type)."
   ]
  },
  {
   "cell_type": "code",
   "execution_count": 2,
   "id": "985853e1",
   "metadata": {
    "vscode": {
     "languageId": "r"
    }
   },
   "outputs": [
    {
     "data": {
      "text/html": [
       "8"
      ],
      "text/latex": [
       "8"
      ],
      "text/markdown": [
       "8"
      ],
      "text/plain": [
       "[1] 8"
      ]
     },
     "metadata": {},
     "output_type": "display_data"
    },
    {
     "data": {
      "text/html": [
       "<style>\n",
       ".list-inline {list-style: none; margin:0; padding: 0}\n",
       ".list-inline>li {display: inline-block}\n",
       ".list-inline>li:not(:last-child)::after {content: \"\\00b7\"; padding: 0 .5ex}\n",
       "</style>\n",
       "<ol class=list-inline><li>1</li><li>4</li><li>7</li></ol>\n"
      ],
      "text/latex": [
       "\\begin{enumerate*}\n",
       "\\item 1\n",
       "\\item 4\n",
       "\\item 7\n",
       "\\end{enumerate*}\n"
      ],
      "text/markdown": [
       "1. 1\n",
       "2. 4\n",
       "3. 7\n",
       "\n",
       "\n"
      ],
      "text/plain": [
       "[1] 1 4 7"
      ]
     },
     "metadata": {},
     "output_type": "display_data"
    },
    {
     "data": {
      "text/html": [
       "<table class=\"dataframe\">\n",
       "<caption>A matrix: 3 × 3 of type int</caption>\n",
       "<tbody>\n",
       "\t<tr><td>1</td><td>2</td><td>3</td></tr>\n",
       "\t<tr><td>4</td><td>5</td><td>6</td></tr>\n",
       "\t<tr><td>7</td><td>8</td><td>9</td></tr>\n",
       "</tbody>\n",
       "</table>\n"
      ],
      "text/latex": [
       "A matrix: 3 × 3 of type int\n",
       "\\begin{tabular}{lll}\n",
       "\t 1 & 2 & 3\\\\\n",
       "\t 4 & 5 & 6\\\\\n",
       "\t 7 & 8 & 9\\\\\n",
       "\\end{tabular}\n"
      ],
      "text/markdown": [
       "\n",
       "A matrix: 3 × 3 of type int\n",
       "\n",
       "| 1 | 2 | 3 |\n",
       "| 4 | 5 | 6 |\n",
       "| 7 | 8 | 9 |\n",
       "\n"
      ],
      "text/plain": [
       "     [,1] [,2] [,3]\n",
       "[1,] 1    2    3   \n",
       "[2,] 4    5    6   \n",
       "[3,] 7    8    9   "
      ]
     },
     "metadata": {},
     "output_type": "display_data"
    },
    {
     "data": {
      "text/html": [
       "<table class=\"dataframe\">\n",
       "<caption>A matrix: 3 × 3 of type dbl</caption>\n",
       "<tbody>\n",
       "\t<tr><td>30</td><td>66</td><td>102</td></tr>\n",
       "\t<tr><td>36</td><td>81</td><td>126</td></tr>\n",
       "\t<tr><td>42</td><td>96</td><td>150</td></tr>\n",
       "</tbody>\n",
       "</table>\n"
      ],
      "text/latex": [
       "A matrix: 3 × 3 of type dbl\n",
       "\\begin{tabular}{lll}\n",
       "\t 30 & 66 & 102\\\\\n",
       "\t 36 & 81 & 126\\\\\n",
       "\t 42 & 96 & 150\\\\\n",
       "\\end{tabular}\n"
      ],
      "text/markdown": [
       "\n",
       "A matrix: 3 × 3 of type dbl\n",
       "\n",
       "| 30 | 66 | 102 |\n",
       "| 36 | 81 | 126 |\n",
       "| 42 | 96 | 150 |\n",
       "\n"
      ],
      "text/plain": [
       "     [,1] [,2] [,3]\n",
       "[1,] 30   66   102 \n",
       "[2,] 36   81   126 \n",
       "[3,] 42   96   150 "
      ]
     },
     "metadata": {},
     "output_type": "display_data"
    }
   ],
   "source": [
    "# Creating a matrix\n",
    "mat <- matrix(1:9, nrow = 3, ncol = 3)\n",
    "#      [,1] [,2] [,3]\n",
    "# [1,]    1    4    7\n",
    "# [2,]    2    5    8\n",
    "# [3,]    3    6    9\n",
    "\n",
    "# Accessing elements\n",
    "mat[2, 3]  # Returns 8 (row 2, column 3)\n",
    "mat[1, ]   # Returns first row: 1 4 7\n",
    "\n",
    "# Matrix operations\n",
    "t(mat)  # Transpose\n",
    "mat %*% mat  # Matrix multiplication"
   ]
  },
  {
   "cell_type": "markdown",
   "id": "6e6b10c0",
   "metadata": {},
   "source": [
    "### Arrays\n",
    "Similar to matrices but can have more than two dimensions."
   ]
  },
  {
   "cell_type": "code",
   "execution_count": 7,
   "id": "9109bb06",
   "metadata": {
    "vscode": {
     "languageId": "r"
    }
   },
   "outputs": [
    {
     "name": "stdout",
     "output_type": "stream",
     "text": [
      ", , 1\n",
      "\n",
      "     [,1] [,2] [,3]\n",
      "[1,]    1    3    5\n",
      "[2,]    2    4    6\n",
      "\n",
      ", , 2\n",
      "\n",
      "     [,1] [,2] [,3]\n",
      "[1,]    7    9   11\n",
      "[2,]    8   10   12\n",
      "\n",
      ", , 3\n",
      "\n",
      "     [,1] [,2] [,3]\n",
      "[1,]   13   15   17\n",
      "[2,]   14   16   18\n",
      "\n",
      ", , 4\n",
      "\n",
      "     [,1] [,2] [,3]\n",
      "[1,]   19   21   23\n",
      "[2,]   20   22   24\n",
      "\n"
     ]
    },
    {
     "data": {
      "text/html": [
       "15"
      ],
      "text/latex": [
       "15"
      ],
      "text/markdown": [
       "15"
      ],
      "text/plain": [
       "[1] 15"
      ]
     },
     "metadata": {},
     "output_type": "display_data"
    }
   ],
   "source": [
    "# Creating a 3D array\n",
    "arr <- array(1:24, dim = c(2, 3, 4))  # 2 rows, 3 columns, 4 layers\n",
    "print(arr)\n",
    "# Accessing elements\n",
    "arr[1, 2, 3]  # Returns element at row 1, column 2, layer 3"
   ]
  },
  {
   "cell_type": "markdown",
   "id": "4f8d5ec5",
   "metadata": {},
   "source": [
    "### Lists\n",
    "Ordered collections of objects that can contain elements of different types."
   ]
  },
  {
   "cell_type": "code",
   "execution_count": 9,
   "id": "5a73ebd5",
   "metadata": {
    "vscode": {
     "languageId": "r"
    }
   },
   "outputs": [
    {
     "data": {
      "text/html": [
       "'John'"
      ],
      "text/latex": [
       "'John'"
      ],
      "text/markdown": [
       "'John'"
      ],
      "text/plain": [
       "[1] \"John\""
      ]
     },
     "metadata": {},
     "output_type": "display_data"
    },
    {
     "data": {
      "text/html": [
       "<style>\n",
       ".list-inline {list-style: none; margin:0; padding: 0}\n",
       ".list-inline>li {display: inline-block}\n",
       ".list-inline>li:not(:last-child)::after {content: \"\\00b7\"; padding: 0 .5ex}\n",
       "</style>\n",
       "<ol class=list-inline><li>85</li><li>92</li><li>88</li></ol>\n"
      ],
      "text/latex": [
       "\\begin{enumerate*}\n",
       "\\item 85\n",
       "\\item 92\n",
       "\\item 88\n",
       "\\end{enumerate*}\n"
      ],
      "text/markdown": [
       "1. 85\n",
       "2. 92\n",
       "3. 88\n",
       "\n",
       "\n"
      ],
      "text/plain": [
       "[1] 85 92 88"
      ]
     },
     "metadata": {},
     "output_type": "display_data"
    },
    {
     "data": {
      "text/html": [
       "30"
      ],
      "text/latex": [
       "30"
      ],
      "text/markdown": [
       "30"
      ],
      "text/plain": [
       "[1] 30"
      ]
     },
     "metadata": {},
     "output_type": "display_data"
    },
    {
     "name": "stdout",
     "output_type": "stream",
     "text": [
      "$person1\n",
      "$person1$name\n",
      "[1] \"Alice\"\n",
      "\n",
      "$person1$age\n",
      "[1] 25\n",
      "\n",
      "\n",
      "$person2\n",
      "$person2$name\n",
      "[1] \"Bob\"\n",
      "\n",
      "$person2$age\n",
      "[1] 30\n",
      "\n",
      "\n"
     ]
    }
   ],
   "source": [
    "# Creating a list\n",
    "my_list <- list(\n",
    "  name = \"John\",\n",
    "  age = 30,\n",
    "  scores = c(85, 92, 88),\n",
    "  is_student = TRUE\n",
    ")\n",
    "\n",
    "# Accessing elements\n",
    "my_list$name  # Returns \"John\"\n",
    "my_list[[3]]  # Returns the scores vector\n",
    "my_list[[\"age\"]]  # Returns 30\n",
    "\n",
    "# Nested lists\n",
    "nested_list <- list(\n",
    "  person1 = list(name = \"Alice\", age = 25),\n",
    "  person2 = list(name = \"Bob\", age = 30)\n",
    ")\n",
    "print(nested_list)"
   ]
  },
  {
   "cell_type": "markdown",
   "id": "ba4baaa7",
   "metadata": {},
   "source": [
    "### Data Frames\n",
    "Two-dimensional structures similar to matrices but columns can contain different types of data (like a spreadsheet or database table)."
   ]
  },
  {
   "cell_type": "code",
   "execution_count": 10,
   "id": "dbdb84da",
   "metadata": {
    "vscode": {
     "languageId": "r"
    }
   },
   "outputs": [
    {
     "data": {
      "text/html": [
       "<style>\n",
       ".list-inline {list-style: none; margin:0; padding: 0}\n",
       ".list-inline>li {display: inline-block}\n",
       ".list-inline>li:not(:last-child)::after {content: \"\\00b7\"; padding: 0 .5ex}\n",
       "</style>\n",
       "<ol class=list-inline><li>'Alice'</li><li>'Bob'</li><li>'Charlie'</li></ol>\n"
      ],
      "text/latex": [
       "\\begin{enumerate*}\n",
       "\\item 'Alice'\n",
       "\\item 'Bob'\n",
       "\\item 'Charlie'\n",
       "\\end{enumerate*}\n"
      ],
      "text/markdown": [
       "1. 'Alice'\n",
       "2. 'Bob'\n",
       "3. 'Charlie'\n",
       "\n",
       "\n"
      ],
      "text/plain": [
       "[1] \"Alice\"   \"Bob\"     \"Charlie\""
      ]
     },
     "metadata": {},
     "output_type": "display_data"
    },
    {
     "data": {
      "text/html": [
       "<table class=\"dataframe\">\n",
       "<caption>A data.frame: 1 × 4</caption>\n",
       "<thead>\n",
       "\t<tr><th></th><th scope=col>name</th><th scope=col>age</th><th scope=col>score</th><th scope=col>passed</th></tr>\n",
       "\t<tr><th></th><th scope=col>&lt;chr&gt;</th><th scope=col>&lt;dbl&gt;</th><th scope=col>&lt;dbl&gt;</th><th scope=col>&lt;lgl&gt;</th></tr>\n",
       "</thead>\n",
       "<tbody>\n",
       "\t<tr><th scope=row>2</th><td>Bob</td><td>30</td><td>92</td><td>TRUE</td></tr>\n",
       "</tbody>\n",
       "</table>\n"
      ],
      "text/latex": [
       "A data.frame: 1 × 4\n",
       "\\begin{tabular}{r|llll}\n",
       "  & name & age & score & passed\\\\\n",
       "  & <chr> & <dbl> & <dbl> & <lgl>\\\\\n",
       "\\hline\n",
       "\t2 & Bob & 30 & 92 & TRUE\\\\\n",
       "\\end{tabular}\n"
      ],
      "text/markdown": [
       "\n",
       "A data.frame: 1 × 4\n",
       "\n",
       "| <!--/--> | name &lt;chr&gt; | age &lt;dbl&gt; | score &lt;dbl&gt; | passed &lt;lgl&gt; |\n",
       "|---|---|---|---|---|\n",
       "| 2 | Bob | 30 | 92 | TRUE |\n",
       "\n"
      ],
      "text/plain": [
       "  name age score passed\n",
       "2 Bob  30  92    TRUE  "
      ]
     },
     "metadata": {},
     "output_type": "display_data"
    },
    {
     "data": {
      "text/html": [
       "<style>\n",
       ".list-inline {list-style: none; margin:0; padding: 0}\n",
       ".list-inline>li {display: inline-block}\n",
       ".list-inline>li:not(:last-child)::after {content: \"\\00b7\"; padding: 0 .5ex}\n",
       "</style>\n",
       "<ol class=list-inline><li>25</li><li>30</li><li>35</li></ol>\n"
      ],
      "text/latex": [
       "\\begin{enumerate*}\n",
       "\\item 25\n",
       "\\item 30\n",
       "\\item 35\n",
       "\\end{enumerate*}\n"
      ],
      "text/markdown": [
       "1. 25\n",
       "2. 30\n",
       "3. 35\n",
       "\n",
       "\n"
      ],
      "text/plain": [
       "[1] 25 30 35"
      ]
     },
     "metadata": {},
     "output_type": "display_data"
    },
    {
     "data": {
      "text/html": [
       "<table class=\"dataframe\">\n",
       "<caption>A data.frame: 3 × 4</caption>\n",
       "<thead>\n",
       "\t<tr><th></th><th scope=col>name</th><th scope=col>age</th><th scope=col>score</th><th scope=col>passed</th></tr>\n",
       "\t<tr><th></th><th scope=col>&lt;chr&gt;</th><th scope=col>&lt;dbl&gt;</th><th scope=col>&lt;dbl&gt;</th><th scope=col>&lt;lgl&gt;</th></tr>\n",
       "</thead>\n",
       "<tbody>\n",
       "\t<tr><th scope=row>1</th><td>Alice  </td><td>25</td><td>88.5</td><td> TRUE</td></tr>\n",
       "\t<tr><th scope=row>2</th><td>Bob    </td><td>30</td><td>92.0</td><td> TRUE</td></tr>\n",
       "\t<tr><th scope=row>3</th><td>Charlie</td><td>35</td><td>85.5</td><td>FALSE</td></tr>\n",
       "</tbody>\n",
       "</table>\n"
      ],
      "text/latex": [
       "A data.frame: 3 × 4\n",
       "\\begin{tabular}{r|llll}\n",
       "  & name & age & score & passed\\\\\n",
       "  & <chr> & <dbl> & <dbl> & <lgl>\\\\\n",
       "\\hline\n",
       "\t1 & Alice   & 25 & 88.5 &  TRUE\\\\\n",
       "\t2 & Bob     & 30 & 92.0 &  TRUE\\\\\n",
       "\t3 & Charlie & 35 & 85.5 & FALSE\\\\\n",
       "\\end{tabular}\n"
      ],
      "text/markdown": [
       "\n",
       "A data.frame: 3 × 4\n",
       "\n",
       "| <!--/--> | name &lt;chr&gt; | age &lt;dbl&gt; | score &lt;dbl&gt; | passed &lt;lgl&gt; |\n",
       "|---|---|---|---|---|\n",
       "| 1 | Alice   | 25 | 88.5 |  TRUE |\n",
       "| 2 | Bob     | 30 | 92.0 |  TRUE |\n",
       "| 3 | Charlie | 35 | 85.5 | FALSE |\n",
       "\n"
      ],
      "text/plain": [
       "  name    age score passed\n",
       "1 Alice   25  88.5   TRUE \n",
       "2 Bob     30  92.0   TRUE \n",
       "3 Charlie 35  85.5  FALSE "
      ]
     },
     "metadata": {},
     "output_type": "display_data"
    },
    {
     "data": {
      "text/plain": [
       "     name                age           score         passed       \n",
       " Length:3           Min.   :25.0   Min.   :85.50   Mode :logical  \n",
       " Class :character   1st Qu.:27.5   1st Qu.:87.00   FALSE:1        \n",
       " Mode  :character   Median :30.0   Median :88.50   TRUE :2        \n",
       "                    Mean   :30.0   Mean   :88.67                  \n",
       "                    3rd Qu.:32.5   3rd Qu.:90.25                  \n",
       "                    Max.   :35.0   Max.   :92.00                  "
      ]
     },
     "metadata": {},
     "output_type": "display_data"
    },
    {
     "data": {
      "text/html": [
       "3"
      ],
      "text/latex": [
       "3"
      ],
      "text/markdown": [
       "3"
      ],
      "text/plain": [
       "[1] 3"
      ]
     },
     "metadata": {},
     "output_type": "display_data"
    },
    {
     "data": {
      "text/html": [
       "4"
      ],
      "text/latex": [
       "4"
      ],
      "text/markdown": [
       "4"
      ],
      "text/plain": [
       "[1] 4"
      ]
     },
     "metadata": {},
     "output_type": "display_data"
    }
   ],
   "source": [
    "# Creating a data frame\n",
    "df <- data.frame(\n",
    "  name = c(\"Alice\", \"Bob\", \"Charlie\"),\n",
    "  age = c(25, 30, 35),\n",
    "  score = c(88.5, 92.0, 85.5),\n",
    "  passed = c(TRUE, TRUE, FALSE)\n",
    ")\n",
    "\n",
    "# Accessing elements\n",
    "df$name  # Returns the name column\n",
    "df[2, ]  # Returns the second row\n",
    "df[, \"age\"]  # Returns the age column\n",
    "\n",
    "# Common operations\n",
    "head(df)  # View first few rows\n",
    "summary(df)  # Summary statistics\n",
    "nrow(df)  # Number of rows\n",
    "ncol(df)  # Number of columns"
   ]
  },
  {
   "cell_type": "markdown",
   "id": "7cf41c68",
   "metadata": {},
   "source": [
    "### Factors\n",
    "Used to represent categorical data with fixed possible values (levels)."
   ]
  },
  {
   "cell_type": "code",
   "execution_count": 12,
   "id": "e24f7021",
   "metadata": {
    "vscode": {
     "languageId": "r"
    }
   },
   "outputs": [
    {
     "data": {
      "text/html": [
       "<style>\n",
       ".list-inline {list-style: none; margin:0; padding: 0}\n",
       ".list-inline>li {display: inline-block}\n",
       ".list-inline>li:not(:last-child)::after {content: \"\\00b7\"; padding: 0 .5ex}\n",
       "</style>\n",
       "<ol class=list-inline><li>'female'</li><li>'male'</li></ol>\n"
      ],
      "text/latex": [
       "\\begin{enumerate*}\n",
       "\\item 'female'\n",
       "\\item 'male'\n",
       "\\end{enumerate*}\n"
      ],
      "text/markdown": [
       "1. 'female'\n",
       "2. 'male'\n",
       "\n",
       "\n"
      ],
      "text/plain": [
       "[1] \"female\" \"male\"  "
      ]
     },
     "metadata": {},
     "output_type": "display_data"
    },
    {
     "name": "stdout",
     "output_type": "stream",
     "text": [
      "[1] medium low    high  \n",
      "Levels: low < medium < high\n"
     ]
    }
   ],
   "source": [
    "# Creating a factor\n",
    "gender <- factor(c(\"male\", \"female\", \"male\", \"female\", \"female\"))\n",
    "levels(gender)  # Shows \"female\" \"male\"\n",
    "\n",
    "# Ordered factors\n",
    "temp_levels <- factor(c(\"medium\", \"low\", \"high\"), \n",
    "                      levels = c(\"low\", \"medium\", \"high\"), \n",
    "                      ordered = TRUE)\n",
    "print(temp_levels)"
   ]
  },
  {
   "cell_type": "markdown",
   "id": "8d502cda",
   "metadata": {},
   "source": [
    "## Summary\n",
    "\n",
    "* Use vectors for simple sequences of the same type\n",
    "\n",
    "* Use matrices/arrays for homogeneous multi-dimensional data\n",
    "\n",
    "* Use lists for heterogeneous collections or complex objects\n",
    "\n",
    "* Use data frames for tabular data (most common in data analysis)\n",
    "\n",
    "* Use factors for categorical variables with fixed levels\n",
    "\n",
    "Understanding these data structures and when to use each is fundamental to effective R programming and data analysis."
   ]
  },
  {
   "cell_type": "markdown",
   "id": "a09fe08b",
   "metadata": {},
   "source": [
    "## Practice Exercises\n",
    "\n",
    "1. Create a numeric vector of 10 random numbers between 1-100"
   ]
  },
  {
   "cell_type": "code",
   "execution_count": 14,
   "id": "20edb021",
   "metadata": {
    "vscode": {
     "languageId": "r"
    }
   },
   "outputs": [
    {
     "name": "stdout",
     "output_type": "stream",
     "text": [
      " [1] 87 58 88 54 75 34 31 78 43 14\n"
     ]
    }
   ],
   "source": [
    "vec<-sample(1:100, 10)\n",
    "print(vec)"
   ]
  },
  {
   "cell_type": "markdown",
   "id": "01eb8bff",
   "metadata": {},
   "source": [
    "2. Create a 4×4 matrix of even numbers (2-32)"
   ]
  },
  {
   "cell_type": "code",
   "execution_count": 23,
   "id": "e58dad0e",
   "metadata": {
    "vscode": {
     "languageId": "r"
    }
   },
   "outputs": [
    {
     "name": "stdout",
     "output_type": "stream",
     "text": [
      "     [,1] [,2] [,3] [,4]\n",
      "[1,]    2   10   18   26\n",
      "[2,]    4   12   20   28\n",
      "[3,]    6   14   22   30\n",
      "[4,]    8   16   24   32\n"
     ]
    }
   ],
   "source": [
    "mat <- matrix(seq(2, 32, 2), nrow=4, ncol=4)\n",
    "print(mat)"
   ]
  },
  {
   "cell_type": "markdown",
   "id": "2af33873",
   "metadata": {},
   "source": [
    "3. Create a 3D array (2×3×2) of month abbreviations"
   ]
  },
  {
   "cell_type": "code",
   "execution_count": 24,
   "id": "1039d29a",
   "metadata": {
    "vscode": {
     "languageId": "r"
    }
   },
   "outputs": [
    {
     "name": "stdout",
     "output_type": "stream",
     "text": [
      ", , 1\n",
      "\n",
      "     [,1]  [,2]  [,3] \n",
      "[1,] \"Jan\" \"Mar\" \"May\"\n",
      "[2,] \"Feb\" \"Apr\" \"Jun\"\n",
      "\n",
      ", , 2\n",
      "\n",
      "     [,1]  [,2]  [,3] \n",
      "[1,] \"Jul\" \"Sep\" \"Nov\"\n",
      "[2,] \"Aug\" \"Oct\" \"Dec\"\n",
      "\n"
     ]
    }
   ],
   "source": [
    "arr <- array(month.abb, dim=c(2,3,2))\n",
    "print(arr)"
   ]
  },
  {
   "cell_type": "markdown",
   "id": "e9b63ec3",
   "metadata": {},
   "source": [
    "4. Create a list containing:\n",
    "\n",
    "* Your name (character)\n",
    "\n",
    "* A vector of 3 lucky numbers\n",
    "\n",
    "* A logical for whether R is fun\n",
    "\n",
    "Then extract the numbers using both $ and [[ ]] notation."
   ]
  },
  {
   "cell_type": "code",
   "execution_count": 26,
   "id": "c2f0d39b",
   "metadata": {
    "vscode": {
     "languageId": "r"
    }
   },
   "outputs": [
    {
     "data": {
      "text/html": [
       "'Mehwish'"
      ],
      "text/latex": [
       "'Mehwish'"
      ],
      "text/markdown": [
       "'Mehwish'"
      ],
      "text/plain": [
       "[1] \"Mehwish\""
      ]
     },
     "metadata": {},
     "output_type": "display_data"
    },
    {
     "data": {
      "text/html": [
       "TRUE"
      ],
      "text/latex": [
       "TRUE"
      ],
      "text/markdown": [
       "TRUE"
      ],
      "text/plain": [
       "[1] TRUE"
      ]
     },
     "metadata": {},
     "output_type": "display_data"
    }
   ],
   "source": [
    "my_list<-list(Name=\"Mehwish\",\n",
    "              LuckyNum=c(3,4,5),\n",
    "              is_fun=TRUE)\n",
    "my_list$Name\n",
    "my_list[[\"is_fun\"]]              "
   ]
  },
  {
   "cell_type": "markdown",
   "id": "b6ce3f65",
   "metadata": {},
   "source": [
    "5. Create a data frame named books with:\n",
    "\n",
    "* title: 3 book titles (e.g., \"R for Beginners\", \"Data Science 101\", \"Advanced R\")\n",
    "\n",
    "* author: Author names\n",
    "\n",
    "* pages: Page counts (numeric)\n",
    "\n",
    "Add a column long_book (TRUE if pages > 200)."
   ]
  },
  {
   "cell_type": "code",
   "execution_count": 39,
   "id": "06fc92eb",
   "metadata": {
    "vscode": {
     "languageId": "r"
    }
   },
   "outputs": [
    {
     "name": "stdout",
     "output_type": "stream",
     "text": [
      "             title      author pages long_book\n",
      "1  R for Beginners    Jane Doe   120     FALSE\n",
      "2 Data Science 101  John Smith   250      TRUE\n",
      "3       Advanced R Alice Brown   180     FALSE\n"
     ]
    }
   ],
   "source": [
    "\n",
    "# Step 1: Create the data frame\n",
    "books <- data.frame(\n",
    "  title = c(\"R for Beginners\", \"Data Science 101\", \"Advanced R\"),\n",
    "  author = c(\"Jane Doe\", \"John Smith\", \"Alice Brown\"),\n",
    "  pages = c(120, 250, 180)\n",
    ")\n",
    "\n",
    "# Step 2: Add a column\n",
    "books$long_book <- books$pages > 200\n",
    "print(books)\n"
   ]
  },
  {
   "cell_type": "markdown",
   "id": "89faa576",
   "metadata": {},
   "source": [
    "6. Create a factor weather from:\n",
    "c(\"Sunny\", \"Rainy\", \"Cloudy\", \"Sunny\", \"Rainy\").\n",
    "\n",
    "* Add a new level \"Snowy\" (even if not present in data).\n",
    "\n",
    "* Convert it to an ordered factor:\n",
    "\"Rainy\" < \"Cloudy\" < \"Sunny\" < \"Snowy\"."
   ]
  },
  {
   "cell_type": "code",
   "execution_count": 41,
   "id": "140e9503",
   "metadata": {
    "vscode": {
     "languageId": "r"
    }
   },
   "outputs": [
    {
     "name": "stdout",
     "output_type": "stream",
     "text": [
      "[1] Sunny  Rainy  Cloudy Sunny  Rainy \n",
      "Levels: Rainy < Cloudy < Sunny < Snowy\n"
     ]
    }
   ],
   "source": [
    "# Step 1: Create factor\n",
    "weather <- factor(c(\"Sunny\", \"Rainy\", \"Cloudy\", \"Sunny\", \"Rainy\"))\n",
    "\n",
    "# Step 2: Add level\n",
    "levels(weather) <- c(levels(weather), \"Snowy\")\n",
    "\n",
    "# Step 3: Make ordered\n",
    "weather <- factor(weather, \n",
    "                 levels = c(\"Rainy\", \"Cloudy\", \"Sunny\", \"Snowy\"), \n",
    "                 ordered = TRUE)\n",
    "print(weather)"
   ]
  }
 ],
 "metadata": {
  "kernelspec": {
   "display_name": "R",
   "language": "R",
   "name": "ir"
  },
  "language_info": {
   "codemirror_mode": "r",
   "file_extension": ".r",
   "mimetype": "text/x-r-source",
   "name": "R",
   "pygments_lexer": "r",
   "version": "4.3.1"
  }
 },
 "nbformat": 4,
 "nbformat_minor": 5
}
