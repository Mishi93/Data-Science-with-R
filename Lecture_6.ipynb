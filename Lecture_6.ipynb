{
 "cells": [
  {
   "cell_type": "markdown",
   "id": "eca1c8e7",
   "metadata": {},
   "source": [
    "# Built In Functions in R\n"
   ]
  },
  {
   "cell_type": "markdown",
   "id": "62ea64d1",
   "metadata": {},
   "source": [
    "### Vector Operations\n"
   ]
  },
  {
   "cell_type": "code",
   "execution_count": 3,
   "id": "ca9d0823",
   "metadata": {
    "vscode": {
     "languageId": "r"
    }
   },
   "outputs": [
    {
     "name": "stdout",
     "output_type": "stream",
     "text": [
      "[1] 1 2 3 4\n",
      "[1] TRUE\n",
      "[1] 3\n",
      "[1] 1 9\n",
      "[1] 7 7 7\n",
      "[1] 5 4 3 2 1\n",
      "[1] 1 3 5 7 9\n",
      "[1] 1 2 3\n"
     ]
    }
   ],
   "source": [
    "# append() - Add elements to a vector\n",
    "vec1 <- c(1, 2, 3)\n",
    "vec2 <- append(vec1, 4)  # Adds 4 to the end of vec1\n",
    "print(vec2)  # Output: 1 2 3 4\n",
    "\n",
    "# c() - Combine values into a vector\n",
    "combined <- c(10, 20, 30)  # Creates a vector with values 10, 20, 30\n",
    "\n",
    "# identical() - Test if two objects are exactly equal\n",
    "x <- 1:5\n",
    "y <- 1:5\n",
    "print(identical(x, y))  # Returns TRUE\n",
    "\n",
    "# length() - Return the length of an R object\n",
    "print(length(c(\"a\", \"b\", \"c\")))  # Returns 3\n",
    "\n",
    "# range() - Return the minimum and maximum of a vector\n",
    "print(range(c(5, 2, 9, 1)))  # Returns 1 9\n",
    "\n",
    "# rep() - Repeat elements of a vector\n",
    "print(rep(7, 3))  # Returns 7 7 7\n",
    "\n",
    "# rev() - Reverse the elements of a vector\n",
    "print(rev(1:5))  # Returns 5 4 3 2 1\n",
    "\n",
    "# seq() - Generate regular sequences\n",
    "print(seq(1, 10, by=2))  # Returns 1 3 5 7 9\n",
    "\n",
    "# unique() - Remove duplicate entries\n",
    "print(unique(c(1, 2, 2, 3))) # Returns 1 2 3"
   ]
  },
  {
   "cell_type": "markdown",
   "id": "4e09c7ce",
   "metadata": {},
   "source": [
    "### String Operations"
   ]
  },
  {
   "cell_type": "code",
   "execution_count": 5,
   "id": "67d24341",
   "metadata": {
    "vscode": {
     "languageId": "r"
    }
   },
   "outputs": [
    {
     "name": "stdout",
     "output_type": "stream",
     "text": [
      "[1] \"hello world\"\n",
      "[1] \"HELLO WORLD\"\n",
      "[1] 1 4\n"
     ]
    }
   ],
   "source": [
    "# tolower() - Convert to lowercase\n",
    "print(tolower(\"HELLO WORLD\"))  # Returns \"hello world\"\n",
    "\n",
    "# toupper() - Convert to uppercase\n",
    "print(toupper(\"hello world\"))  # Returns \"HELLO WORLD\"\n",
    "\n",
    "# grep() - Pattern matching\n",
    "words <- c(\"apple\", \"banana\", \"grape\", \"pineapple\")\n",
    "print(grep(\"apple\", words))  # Returns indices 1 3"
   ]
  },
  {
   "cell_type": "markdown",
   "id": "90782d25",
   "metadata": {},
   "source": [
    "### Object Inspection"
   ]
  },
  {
   "cell_type": "code",
   "execution_count": 7,
   "id": "04a10996",
   "metadata": {
    "vscode": {
     "languageId": "r"
    }
   },
   "outputs": [
    {
     "name": "stdout",
     "output_type": "stream",
     "text": [
      "   Min. 1st Qu.  Median    Mean 3rd Qu.    Max. \n",
      "   10.0    17.5    25.0    25.0    32.5    40.0 \n",
      "'data.frame':\t3 obs. of  2 variables:\n",
      " $ x: int  1 2 3\n",
      " $ y: chr  \"a\" \"b\" \"c\"\n"
     ]
    },
    {
     "name": "stderr",
     "output_type": "stream",
     "text": [
      "also installing the dependencies 'pkgconfig', 'generics', 'tibble', 'tidyselect'\n",
      "\n",
      "\n"
     ]
    },
    {
     "name": "stdout",
     "output_type": "stream",
     "text": [
      "\n",
      "  There are binary versions available but the source versions are later:\n",
      "         binary source needs_compilation\n",
      "generics  0.1.3  0.1.4             FALSE\n",
      "tibble    3.2.1  3.3.0              TRUE\n",
      "\n",
      "  Binaries will be installed\n",
      "package 'pkgconfig' successfully unpacked and MD5 sums checked\n",
      "package 'tibble' successfully unpacked and MD5 sums checked\n",
      "package 'tidyselect' successfully unpacked and MD5 sums checked\n",
      "package 'dplyr' successfully unpacked and MD5 sums checked\n",
      "\n",
      "The downloaded binary packages are in\n",
      "\tC:\\Users\\Administrator\\AppData\\Local\\Temp\\RtmpUPj3FJ\\downloaded_packages\n"
     ]
    },
    {
     "name": "stderr",
     "output_type": "stream",
     "text": [
      "installing the source package 'generics'\n",
      "\n",
      "\n",
      "Warning message:\n",
      "\"package 'dplyr' was built under R version 4.3.3\"\n",
      "\n",
      "Attaching package: 'dplyr'\n",
      "\n",
      "\n",
      "The following objects are masked from 'package:stats':\n",
      "\n",
      "    filter, lag\n",
      "\n",
      "\n",
      "The following objects are masked from 'package:base':\n",
      "\n",
      "    intersect, setdiff, setequal, union\n",
      "\n",
      "\n"
     ]
    },
    {
     "name": "stdout",
     "output_type": "stream",
     "text": [
      "Rows: 3\n",
      "Columns: 2\n",
      "$ x \u001b[3m\u001b[90m<int>\u001b[39m\u001b[23m 1\u001b[90m, \u001b[39m2\u001b[90m, \u001b[39m3\n",
      "$ y \u001b[3m\u001b[90m<chr>\u001b[39m\u001b[23m \"a\"\u001b[90m, \u001b[39m\"b\"\u001b[90m, \u001b[39m\"c\"\n",
      "[1] \"data.frame\"\n",
      "[1] \"list\"\n"
     ]
    }
   ],
   "source": [
    "# summary() - Return object summaries\n",
    "data <- c(10, 20, 30, 40)\n",
    "print(summary(data))  # Returns min, max, quartiles, etc.\n",
    "\n",
    "# str() - Display object structure\n",
    "df <- data.frame(x=1:3, y=c(\"a\", \"b\", \"c\"))\n",
    "str(df)  # Shows structure of the data frame\n",
    "\n",
    "# glimpse() - Alternative to str() from dplyr\n",
    "install.packages(\"dplyr\")\n",
    "library(dplyr)\n",
    "glimpse(df)  # Compact display of structure\n",
    "\n",
    "# class() - Return object class\n",
    "print(class(df))  # Returns \"data.frame\"\n",
    "\n",
    "# mode() - Get storage mode\n",
    "print(mode(df))  # Returns \"list\" for data frames"
   ]
  }
 ],
 "metadata": {
  "kernelspec": {
   "display_name": "R",
   "language": "R",
   "name": "ir"
  },
  "language_info": {
   "codemirror_mode": "r",
   "file_extension": ".r",
   "mimetype": "text/x-r-source",
   "name": "R",
   "pygments_lexer": "r",
   "version": "4.3.1"
  }
 },
 "nbformat": 4,
 "nbformat_minor": 5
}
