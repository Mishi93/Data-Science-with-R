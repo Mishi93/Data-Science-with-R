{
 "cells": [
  {
   "cell_type": "markdown",
   "id": "68ce0cc4",
   "metadata": {},
   "source": [
    "# Non-Linear Classification\n",
    "\n",
    "Non-linear classification is used when the relationship between input features and output classes is not a straight line (linear). In such cases, linear models like logistic regression or linear SVM fail to separate the data effectively.\n",
    "\n",
    "Non-linear classifiers can model complex decision boundaries (curves, circles, or irregular shapes) by capturing interactions and non-linear patterns in the data.\n",
    "\n",
    "Examples of non-linear classification algorithms include:\n",
    "\n",
    "1. K-Nearest Neighbors (KNN)\n",
    "\n",
    "2. Naives Bayes Classifier\n",
    "\n",
    "3. Random Forests\n",
    "\n",
    "4. Decision Tree Classifier\n",
    "\n",
    "### K-Nearest Neighbors (KNN)\n",
    "\n",
    "KNN is a simple, instance-based non-linear classification algorithm. It classifies a new data point based on the majority class of its nearest neighbors in the feature space.\n",
    "\n",
    "**How it works:**\n",
    "\n",
    "* Choose a value of K (number of neighbors).\n",
    "\n",
    "* Calculate the distance (e.g., Euclidean distance) between the new point and all training points.\n",
    "\n",
    "* Select the K closest neighbors.\n",
    "\n",
    "* Assign the new point to the most frequent class among those neighbors.\n",
    "\n",
    "**Key characteristics:**\n",
    "\n",
    "* Non-parametric → No assumptions about the data distribution.\n",
    "\n",
    "* Lazy learner → No training phase; computation happens during prediction.\n",
    "\n",
    "* Works well with small to medium datasets but can be slow with very large datasets.\n",
    "\n",
    "**Advantages:**\n",
    "\n",
    "* Simple and intuitive.\n",
    "\n",
    "* Can model non-linear decision boundaries effectively.\n",
    "\n",
    "**Disadvantages:**\n",
    "\n",
    "* Sensitive to irrelevant features and scaling.\n",
    "\n",
    "* Performance decreases with high-dimensional data (curse of dimensionality)."
   ]
  },
  {
   "cell_type": "markdown",
   "id": "918d4562",
   "metadata": {},
   "source": [
    "**Why use featurePlot():**\n",
    "\n",
    "*Class separation check*\n",
    "\n",
    "1. It helps you see if features can separate classes visually.\n",
    "\n",
    "*Example:* In the iris dataset, Petal.Length and Petal.Width clearly separate species, while Sepal.Length overlaps more.\n",
    "\n",
    "2. Supports different types of plots\n",
    "\n",
    "* \"pairs\" → scatterplot matrix (shows relationships between features).\n",
    "\n",
    "* \"ellipse\" → adds decision boundaries.\n",
    "\n",
    "* \"density\" → shows class-wise feature distributions.\n",
    "\n",
    "*Model insight*\n",
    "\n",
    "* For Naive Bayes, distributions are key (since NB assumes features are conditionally independent and usually Gaussian).\n",
    "\n",
    "* For KNN, scatterplots show where neighbors overlap.\n",
    "\n",
    "* Fast sanity check before/after modeling\n",
    "\n",
    "* You can visually confirm which features matter most."
   ]
  },
  {
   "cell_type": "code",
   "execution_count": 9,
   "id": "ce697c87",
   "metadata": {
    "vscode": {
     "languageId": "r"
    }
   },
   "outputs": [
    {
     "name": "stderr",
     "output_type": "stream",
     "text": [
      "Warning message:\n",
      "\"package 'caret' is in use and will not be installed\"\n",
      "Warning message:\n",
      "\"package 'e1071' is in use and will not be installed\"\n"
     ]
    },
    {
     "name": "stdout",
     "output_type": "stream",
     "text": [
      "k-Nearest Neighbors \n",
      "\n",
      "105 samples\n",
      "  4 predictor\n",
      "  3 classes: 'setosa', 'versicolor', 'virginica' \n",
      "\n",
      "Pre-processing: centered (4), scaled (4) \n",
      "Resampling: Cross-Validated (10 fold) \n",
      "Summary of sample sizes: 94, 94, 94, 94, 93, 96, ... \n",
      "Resampling results across tuning parameters:\n",
      "\n",
      "  k   Accuracy   Kappa    \n",
      "   5  0.9525253  0.9283333\n",
      "   7  0.9636364  0.9450000\n",
      "   9  0.9636364  0.9450000\n",
      "  11  0.9636364  0.9450000\n",
      "  13  0.9545455  0.9312500\n",
      "  15  0.9545455  0.9312500\n",
      "  17  0.9545455  0.9312500\n",
      "  19  0.9545455  0.9312500\n",
      "  21  0.9545455  0.9312500\n",
      "  23  0.9343434  0.9006593\n",
      "\n",
      "Accuracy was used to select the optimal model using the largest value.\n",
      "The final value used for the model was k = 11.\n",
      "Confusion Matrix and Statistics\n",
      "\n",
      "            Reference\n",
      "Prediction   setosa versicolor virginica\n",
      "  setosa         15          0         0\n",
      "  versicolor      0         15         2\n",
      "  virginica       0          0        13\n",
      "\n",
      "Overall Statistics\n",
      "                                          \n",
      "               Accuracy : 0.9556          \n",
      "                 95% CI : (0.8485, 0.9946)\n",
      "    No Information Rate : 0.3333          \n",
      "    P-Value [Acc > NIR] : < 2.2e-16       \n",
      "                                          \n",
      "                  Kappa : 0.9333          \n",
      "                                          \n",
      " Mcnemar's Test P-Value : NA              \n",
      "\n",
      "Statistics by Class:\n",
      "\n",
      "                     Class: setosa Class: versicolor Class: virginica\n",
      "Sensitivity                 1.0000            1.0000           0.8667\n",
      "Specificity                 1.0000            0.9333           1.0000\n",
      "Pos Pred Value              1.0000            0.8824           1.0000\n",
      "Neg Pred Value              1.0000            1.0000           0.9375\n",
      "Prevalence                  0.3333            0.3333           0.3333\n",
      "Detection Rate              0.3333            0.3333           0.2889\n",
      "Detection Prevalence        0.3333            0.3778           0.2889\n",
      "Balanced Accuracy           1.0000            0.9667           0.9333\n"
     ]
    }
   ],
   "source": [
    "# Install caret if not already installed\n",
    "install.packages(\"caret\")\n",
    "install.packages(\"e1071\")\n",
    "\n",
    "\n",
    "library(caret)\n",
    "library(e1071)\n",
    "\n",
    "# Load dataset\n",
    "data(iris)\n",
    "\n",
    "# Split data into training (70%) and testing (30%)\n",
    "set.seed(123)\n",
    "trainIndex <- createDataPartition(iris$Species, p = 0.7, list = FALSE)\n",
    "trainData <- iris[trainIndex, ]\n",
    "testData  <- iris[-trainIndex, ]\n",
    "\n",
    "# Define training control\n",
    "train_control <- trainControl(method = \"cv\", number = 10)\n",
    "\n",
    "# Train KNN model\n",
    "set.seed(123)\n",
    "knn_model <- train(Species ~ ., \n",
    "                   data = trainData,\n",
    "                   method = \"knn\",\n",
    "                   trControl = train_control,\n",
    "                   preProcess = c(\"center\", \"scale\"),  # important for KNN\n",
    "                   tuneLength = 10)  # searches for best k\n",
    "\n",
    "# Print model details\n",
    "print(knn_model)\n",
    "\n",
    "# Make predictions\n",
    "predictions <- predict(knn_model, newdata = testData)\n",
    "\n",
    "# Confusion matrix\n",
    "conf_matrix <- confusionMatrix(predictions, testData$Species)\n",
    "print(conf_matrix)\n"
   ]
  },
  {
   "cell_type": "code",
   "execution_count": 17,
   "id": "77fd3748",
   "metadata": {
    "vscode": {
     "languageId": "r"
    }
   },
   "outputs": [
    {
     "data": {
      "image/png": "[encoded data removed]",
      "text/plain": [
       "plot without title"
      ]
     },
     "metadata": {
      "image/png": {
       "height": 420,
       "width": 420
      }
     },
     "output_type": "display_data"
    }
   ],
   "source": [
    "# Pairwise plots of features by Species\n",
    "featurePlot(x = iris[, 1:4],\n",
    "            y = iris$Species,\n",
    "            plot = \"pairs\")\n",
    "\n"
   ]
  },
  {
   "cell_type": "markdown",
   "id": "01e7005e",
   "metadata": {},
   "source": [
    "### Naive Bayes Classifier \n",
    "\n",
    "Naive Bayes is a probabilistic classifier based on Bayes’ theorem.\n",
    "\n",
    "It assumes that all features are independent given the class (the “naive” assumption).\n",
    "\n",
    "Despite this simplification, it works surprisingly well, especially for text classification (spam filtering, sentiment analysis).\n",
    "\n",
    "It predicts the class with the highest posterior probability."
   ]
  },
  {
   "cell_type": "code",
   "execution_count": 8,
   "id": "ecef3ef9",
   "metadata": {
    "vscode": {
     "languageId": "r"
    }
   },
   "outputs": [
    {
     "name": "stderr",
     "output_type": "stream",
     "text": [
      "also installing the dependencies 'bit', 'prettyunits', 'bit64', 'progress', 'rappdirs', 'clipr', 'vroom', 'jquerylib', 'memoise', 'sass', 'forcats', 'hms', 'readr', 'httpuv', 'mime', 'fontawesome', 'sourcetools', 'later', 'promises', 'bslib', 'cachem', 'haven', 'shiny', 'miniUI', 'rstudioapi', 'classInt', 'labelled', 'combinat', 'questionr'\n",
      "\n",
      "\n"
     ]
    },
    {
     "name": "stdout",
     "output_type": "stream",
     "text": [
      "package 'bit' successfully unpacked and MD5 sums checked\n",
      "package 'prettyunits' successfully unpacked and MD5 sums checked\n",
      "package 'bit64' successfully unpacked and MD5 sums checked\n",
      "package 'progress' successfully unpacked and MD5 sums checked\n",
      "package 'rappdirs' successfully unpacked and MD5 sums checked\n",
      "package 'clipr' successfully unpacked and MD5 sums checked\n",
      "package 'vroom' successfully unpacked and MD5 sums checked\n",
      "package 'jquerylib' successfully unpacked and MD5 sums checked\n",
      "package 'memoise' successfully unpacked and MD5 sums checked\n",
      "package 'sass' successfully unpacked and MD5 sums checked\n",
      "package 'forcats' successfully unpacked and MD5 sums checked\n",
      "package 'hms' successfully unpacked and MD5 sums checked\n",
      "package 'readr' successfully unpacked and MD5 sums checked\n",
      "package 'httpuv' successfully unpacked and MD5 sums checked\n",
      "package 'mime' successfully unpacked and MD5 sums checked\n",
      "package 'fontawesome' successfully unpacked and MD5 sums checked\n",
      "package 'sourcetools' successfully unpacked and MD5 sums checked\n",
      "package 'later' successfully unpacked and MD5 sums checked\n",
      "package 'promises' successfully unpacked and MD5 sums checked\n",
      "package 'bslib' successfully unpacked and MD5 sums checked\n",
      "package 'cachem' successfully unpacked and MD5 sums checked\n",
      "package 'haven' successfully unpacked and MD5 sums checked\n",
      "package 'shiny' successfully unpacked and MD5 sums checked\n",
      "package 'miniUI' successfully unpacked and MD5 sums checked\n",
      "package 'rstudioapi' successfully unpacked and MD5 sums checked\n",
      "package 'classInt' successfully unpacked and MD5 sums checked\n",
      "package 'labelled' successfully unpacked and MD5 sums checked\n",
      "package 'combinat' successfully unpacked and MD5 sums checked\n",
      "package 'questionr' successfully unpacked and MD5 sums checked\n",
      "package 'klaR' successfully unpacked and MD5 sums checked\n",
      "\n",
      "The downloaded binary packages are in\n",
      "\tC:\\Users\\Administrator\\AppData\\Local\\Temp\\RtmpS8WOHw\\downloaded_packages\n"
     ]
    },
    {
     "name": "stderr",
     "output_type": "stream",
     "text": [
      "Loading required package: MASS\n",
      "\n"
     ]
    },
    {
     "name": "stdout",
     "output_type": "stream",
     "text": [
      "Naive Bayes \n",
      "\n",
      "105 samples\n",
      "  4 predictor\n",
      "  3 classes: 'setosa', 'versicolor', 'virginica' \n",
      "\n",
      "No pre-processing\n",
      "Resampling: Cross-Validated (10 fold) \n",
      "Summary of sample sizes: 95, 93, 95, 95, 93, 96, ... \n",
      "Resampling results across tuning parameters:\n",
      "\n",
      "  usekernel  Accuracy   Kappa    \n",
      "  FALSE      0.9716667  0.9571900\n",
      "   TRUE      0.9716667  0.9580882\n",
      "\n",
      "Tuning parameter 'fL' was held constant at a value of 0\n",
      "Tuning\n",
      " parameter 'adjust' was held constant at a value of 1\n",
      "Accuracy was used to select the optimal model using the largest value.\n",
      "The final values used for the model were fL = 0, usekernel = FALSE and adjust\n",
      " = 1.\n",
      "Confusion Matrix and Statistics\n",
      "\n",
      "            Reference\n",
      "Prediction   setosa versicolor virginica\n",
      "  setosa         15          0         0\n",
      "  versicolor      0         13         2\n",
      "  virginica       0          2        13\n",
      "\n",
      "Overall Statistics\n",
      "                                          \n",
      "               Accuracy : 0.9111          \n",
      "                 95% CI : (0.7878, 0.9752)\n",
      "    No Information Rate : 0.3333          \n",
      "    P-Value [Acc > NIR] : 8.467e-16       \n",
      "                                          \n",
      "                  Kappa : 0.8667          \n",
      "                                          \n",
      " Mcnemar's Test P-Value : NA              \n",
      "\n",
      "Statistics by Class:\n",
      "\n",
      "                     Class: setosa Class: versicolor Class: virginica\n",
      "Sensitivity                 1.0000            0.8667           0.8667\n",
      "Specificity                 1.0000            0.9333           0.9333\n",
      "Pos Pred Value              1.0000            0.8667           0.8667\n",
      "Neg Pred Value              1.0000            0.9333           0.9333\n",
      "Prevalence                  0.3333            0.3333           0.3333\n",
      "Detection Rate              0.3333            0.2889           0.2889\n",
      "Detection Prevalence        0.3333            0.3333           0.3333\n",
      "Balanced Accuracy           1.0000            0.9000           0.9000\n"
     ]
    }
   ],
   "source": [
    "# Install packages if not already installed\n",
    "# install.packages(\"caret\")\n",
    " install.packages(\"klaR\")   # caret uses this for Naive Bayes\n",
    "\n",
    "library(caret)\n",
    "library(klaR)\n",
    "\n",
    "# Load dataset\n",
    "data(iris)\n",
    "\n",
    "# Split data (70% train, 30% test)\n",
    "set.seed(123)\n",
    "trainIndex <- createDataPartition(iris$Species, p = 0.7, list = FALSE)\n",
    "trainData <- iris[trainIndex, ]\n",
    "testData  <- iris[-trainIndex, ]\n",
    "\n",
    "# Train Naive Bayes model\n",
    "nb_model <- train(Species ~ ., \n",
    "                  data = trainData, \n",
    "                  method = \"nb\", \n",
    "                  trControl = trainControl(method = \"cv\", number = 10))\n",
    "\n",
    "# Print model details\n",
    "print(nb_model)\n",
    "\n",
    "# Make predictions\n",
    "predictions <- predict(nb_model, newdata = testData)\n",
    "\n",
    "# Confusion matrix\n",
    "conf_matrix <- confusionMatrix(predictions, testData$Species)\n",
    "print(conf_matrix)\n"
   ]
  },
  {
   "cell_type": "code",
   "execution_count": 19,
   "id": "5f2d4e67",
   "metadata": {
    "vscode": {
     "languageId": "r"
    }
   },
   "outputs": [
    {
     "data": {
      "image/png": "[encoded data removed]",
      "text/plain": [
       "plot without title"
      ]
     },
     "metadata": {
      "image/png": {
       "height": 420,
       "width": 420
      }
     },
     "output_type": "display_data"
    }
   ],
   "source": [
    "# Density plots of features by Species\n",
    "featurePlot(\n",
    "  x = iris[, 1:4],   # predictor variables\n",
    "  y = iris$Species,  # target classes\n",
    "  plot = \"density\",\n",
    "  scales = list(x = list(relation = \"free\"), \n",
    "                y = list(relation = \"free\"))\n",
    ")"
   ]
  },
  {
   "cell_type": "markdown",
   "id": "11963b9a",
   "metadata": {},
   "source": [
    "### Decision Tree Classifier \n",
    "\n",
    "A Decision Tree is a non-linear classification algorithm that splits the data into smaller subsets using rules based on feature values.\n",
    "\n",
    "At each node, the algorithm picks the best feature and threshold to split the data (using measures like Gini index or Information Gain).\n",
    "\n",
    "Splitting continues until a stopping condition is reached (e.g., max depth, minimum samples per leaf).\n",
    "\n",
    "The final leaf nodes represent the predicted class.\n",
    "\n",
    "**Advantage:**\n",
    "Easy to interpret, visualizable, and handles non-linear relationships.\n",
    "\n",
    "**Limitation:**\n",
    "Can overfit if not pruned."
   ]
  },
  {
   "cell_type": "code",
   "execution_count": 13,
   "id": "4f6050b1",
   "metadata": {
    "vscode": {
     "languageId": "r"
    }
   },
   "outputs": [
    {
     "name": "stdout",
     "output_type": "stream",
     "text": [
      "package 'rpart' successfully unpacked and MD5 sums checked\n"
     ]
    },
    {
     "name": "stderr",
     "output_type": "stream",
     "text": [
      "Warning message:\n",
      "\"cannot remove prior installation of package 'rpart'\"\n",
      "Warning message in file.copy(savedcopy, lib, recursive = TRUE):\n",
      "\"problem copying E:\\R-4.5.1\\library\\00LOCK\\rpart\\libs\\x64\\rpart.dll to E:\\R-4.5.1\\library\\rpart\\libs\\x64\\rpart.dll: Permission denied\"\n",
      "Warning message:\n",
      "\"restored 'rpart'\"\n"
     ]
    },
    {
     "name": "stdout",
     "output_type": "stream",
     "text": [
      "\n",
      "The downloaded binary packages are in\n",
      "\tC:\\Users\\Administrator\\AppData\\Local\\Temp\\RtmpS8WOHw\\downloaded_packages\n",
      "package 'rpart.plot' successfully unpacked and MD5 sums checked\n",
      "\n",
      "The downloaded binary packages are in\n",
      "\tC:\\Users\\Administrator\\AppData\\Local\\Temp\\RtmpS8WOHw\\downloaded_packages\n",
      "CART \n",
      "\n",
      "105 samples\n",
      "  4 predictor\n",
      "  3 classes: 'setosa', 'versicolor', 'virginica' \n",
      "\n",
      "No pre-processing\n",
      "Resampling: Cross-Validated (5 fold) \n",
      "Summary of sample sizes: 84, 84, 84, 84, 84 \n",
      "Resampling results across tuning parameters:\n",
      "\n",
      "  cp          Accuracy   Kappa    \n",
      "  0.00000000  0.9428571  0.9142857\n",
      "  0.05555556  0.9428571  0.9142857\n",
      "  0.11111111  0.9428571  0.9142857\n",
      "  0.16666667  0.9428571  0.9142857\n",
      "  0.22222222  0.9428571  0.9142857\n",
      "  0.27777778  0.9428571  0.9142857\n",
      "  0.33333333  0.9428571  0.9142857\n",
      "  0.38888889  0.9428571  0.9142857\n",
      "  0.44444444  0.9428571  0.9142857\n",
      "  0.50000000  0.3333333  0.0000000\n",
      "\n",
      "Accuracy was used to select the optimal model using the largest value.\n",
      "The final value used for the model was cp = 0.4444444.\n",
      "Confusion Matrix and Statistics\n",
      "\n",
      "            Reference\n",
      "Prediction   setosa versicolor virginica\n",
      "  setosa         15          0         0\n",
      "  versicolor      0         14         2\n",
      "  virginica       0          1        13\n",
      "\n",
      "Overall Statistics\n",
      "                                         \n",
      "               Accuracy : 0.9333         \n",
      "                 95% CI : (0.8173, 0.986)\n",
      "    No Information Rate : 0.3333         \n",
      "    P-Value [Acc > NIR] : < 2.2e-16      \n",
      "                                         \n",
      "                  Kappa : 0.9            \n",
      "                                         \n",
      " Mcnemar's Test P-Value : NA             \n",
      "\n",
      "Statistics by Class:\n",
      "\n",
      "                     Class: setosa Class: versicolor Class: virginica\n",
      "Sensitivity                 1.0000            0.9333           0.8667\n",
      "Specificity                 1.0000            0.9333           0.9667\n",
      "Pos Pred Value              1.0000            0.8750           0.9286\n",
      "Neg Pred Value              1.0000            0.9655           0.9355\n",
      "Prevalence                  0.3333            0.3333           0.3333\n",
      "Detection Rate              0.3333            0.3111           0.2889\n",
      "Detection Prevalence        0.3333            0.3556           0.3111\n",
      "Balanced Accuracy           1.0000            0.9333           0.9167\n"
     ]
    },
    {
     "data": {
      "image/png": "[encoded data removed]",
      "text/plain": [
       "plot without title"
      ]
     },
     "metadata": {
      "image/png": {
       "height": 420,
       "width": 420
      }
     },
     "output_type": "display_data"
    }
   ],
   "source": [
    "# Install packages if not already installed\n",
    "# install.packages(\"caret\")\n",
    "install.packages(\"rpart\")\n",
    "install.packages(\"rpart.plot\")\n",
    "\n",
    "library(caret)\n",
    "library(rpart)\n",
    "library(rpart.plot)\n",
    "\n",
    "# Load dataset\n",
    "data(iris)\n",
    "\n",
    "# Train/test split\n",
    "set.seed(123)\n",
    "trainIndex <- createDataPartition(iris$Species, p = 0.7, list = FALSE)\n",
    "trainData <- iris[trainIndex, ]\n",
    "testData  <- iris[-trainIndex, ]\n",
    "\n",
    "# Train Decision Tree model\n",
    "tree_model <- train(\n",
    "  Species ~ ., \n",
    "  data = trainData,\n",
    "  method = \"rpart\",   # CART Decision Tree\n",
    "  trControl = trainControl(method = \"cv\", number = 5),\n",
    "  tuneLength = 10\n",
    ")\n",
    "\n",
    "# Print model details\n",
    "print(tree_model)\n",
    "\n",
    "# Make predictions\n",
    "predictions <- predict(tree_model, testData)\n",
    "\n",
    "# Confusion matrix\n",
    "conf_matrix <- confusionMatrix(predictions, testData$Species)\n",
    "print(conf_matrix)\n",
    "\n",
    "# Plot the tree\n",
    "rpart.plot(tree_model$finalModel)\n"
   ]
  },
  {
   "cell_type": "markdown",
   "id": "c07bc145",
   "metadata": {},
   "source": [
    "### Random Forest Classifier \n",
    "\n",
    "A Random Forest is an ensemble method that builds multiple decision trees and combines them for better accuracy and stability.\n",
    "\n",
    "Each tree is trained on a bootstrap sample (random subset of training data).\n",
    "\n",
    "At each split, it chooses the best split among a random subset of features.\n",
    "\n",
    "Final prediction is based on:\n",
    "\n",
    "Majority vote (for classification).\n",
    "\n",
    "Average (for regression).\n",
    "\n",
    "**Advantages:**\n",
    "\n",
    "1. Handles non-linear relationships.\n",
    "\n",
    "2. Resistant to overfitting (compared to a single tree).\n",
    "\n",
    "3. Works well on high-dimensional data.\n",
    "\n",
    "**Disadvantages:**\n",
    "\n",
    "1. Less interpretable than a single decision tree.\n",
    "\n",
    "2. Can be slower on very large datasets."
   ]
  },
  {
   "cell_type": "code",
   "execution_count": 14,
   "id": "6fbe660f",
   "metadata": {
    "vscode": {
     "languageId": "r"
    }
   },
   "outputs": [
    {
     "name": "stdout",
     "output_type": "stream",
     "text": [
      "package 'randomForest' successfully unpacked and MD5 sums checked\n"
     ]
    },
    {
     "name": "stderr",
     "output_type": "stream",
     "text": [
      "Warning message:\n",
      "\"cannot remove prior installation of package 'randomForest'\"\n",
      "Warning message in file.copy(savedcopy, lib, recursive = TRUE):\n",
      "\"problem copying E:\\R-4.5.1\\library\\00LOCK\\randomForest\\libs\\x64\\randomForest.dll to E:\\R-4.5.1\\library\\randomForest\\libs\\x64\\randomForest.dll: Permission denied\"\n",
      "Warning message:\n",
      "\"restored 'randomForest'\"\n"
     ]
    },
    {
     "name": "stdout",
     "output_type": "stream",
     "text": [
      "\n",
      "The downloaded binary packages are in\n",
      "\tC:\\Users\\Administrator\\AppData\\Local\\Temp\\RtmpS8WOHw\\downloaded_packages\n"
     ]
    },
    {
     "name": "stderr",
     "output_type": "stream",
     "text": [
      "randomForest 4.7-1.2\n",
      "\n",
      "Type rfNews() to see new features/changes/bug fixes.\n",
      "\n",
      "\n",
      "Attaching package: 'randomForest'\n",
      "\n",
      "\n",
      "The following object is masked from 'package:ggplot2':\n",
      "\n",
      "    margin\n",
      "\n",
      "\n"
     ]
    },
    {
     "name": "stdout",
     "output_type": "stream",
     "text": [
      "note: only 3 unique complexity parameters in default grid. Truncating the grid to 3 .\n",
      "\n",
      "Random Forest \n",
      "\n",
      "105 samples\n",
      "  4 predictor\n",
      "  3 classes: 'setosa', 'versicolor', 'virginica' \n",
      "\n",
      "No pre-processing\n",
      "Resampling: Cross-Validated (5 fold) \n",
      "Summary of sample sizes: 84, 84, 84, 84, 84 \n",
      "Resampling results across tuning parameters:\n",
      "\n",
      "  mtry  Accuracy  Kappa    \n",
      "  2     0.952381  0.9285714\n",
      "  3     0.952381  0.9285714\n",
      "  4     0.952381  0.9285714\n",
      "\n",
      "Accuracy was used to select the optimal model using the largest value.\n",
      "The final value used for the model was mtry = 2.\n",
      "Confusion Matrix and Statistics\n",
      "\n",
      "            Reference\n",
      "Prediction   setosa versicolor virginica\n",
      "  setosa         15          0         0\n",
      "  versicolor      0         14         2\n",
      "  virginica       0          1        13\n",
      "\n",
      "Overall Statistics\n",
      "                                         \n",
      "               Accuracy : 0.9333         \n",
      "                 95% CI : (0.8173, 0.986)\n",
      "    No Information Rate : 0.3333         \n",
      "    P-Value [Acc > NIR] : < 2.2e-16      \n",
      "                                         \n",
      "                  Kappa : 0.9            \n",
      "                                         \n",
      " Mcnemar's Test P-Value : NA             \n",
      "\n",
      "Statistics by Class:\n",
      "\n",
      "                     Class: setosa Class: versicolor Class: virginica\n",
      "Sensitivity                 1.0000            0.9333           0.8667\n",
      "Specificity                 1.0000            0.9333           0.9667\n",
      "Pos Pred Value              1.0000            0.8750           0.9286\n",
      "Neg Pred Value              1.0000            0.9655           0.9355\n",
      "Prevalence                  0.3333            0.3333           0.3333\n",
      "Detection Rate              0.3333            0.3111           0.2889\n",
      "Detection Prevalence        0.3333            0.3556           0.3111\n",
      "Balanced Accuracy           1.0000            0.9333           0.9167\n"
     ]
    },
    {
     "data": {
      "image/png": "[encoded data removed]",
      "text/plain": [
       "Plot with title \"rf_model$finalModel\""
      ]
     },
     "metadata": {
      "image/png": {
       "height": 420,
       "width": 420
      }
     },
     "output_type": "display_data"
    }
   ],
   "source": [
    "# Install if needed\n",
    "# install.packages(\"caret\")\n",
    "install.packages(\"randomForest\")\n",
    "\n",
    "library(caret)\n",
    "library(randomForest)\n",
    "\n",
    "# Load dataset\n",
    "data(iris)\n",
    "\n",
    "# Train/test split\n",
    "set.seed(123)\n",
    "trainIndex <- createDataPartition(iris$Species, p = 0.7, list = FALSE)\n",
    "trainData <- iris[trainIndex, ]\n",
    "testData  <- iris[-trainIndex, ]\n",
    "\n",
    "# Train Random Forest model\n",
    "rf_model <- train(\n",
    "  Species ~ ., \n",
    "  data = trainData,\n",
    "  method = \"rf\",   # Random Forest\n",
    "  trControl = trainControl(method = \"cv\", number = 5),\n",
    "  tuneLength = 5   # tries different mtry values (features at split)\n",
    ")\n",
    "\n",
    "# Print model details\n",
    "print(rf_model)\n",
    "\n",
    "# Make predictions\n",
    "predictions <- predict(rf_model, testData)\n",
    "\n",
    "# Confusion matrix\n",
    "conf_matrix <- confusionMatrix(predictions, testData$Species)\n",
    "print(conf_matrix)\n",
    "\n",
    "# Variable importance plot\n",
    "varImpPlot(rf_model$finalModel)\n"
   ]
  },
  {
   "cell_type": "markdown",
   "id": "16735bda",
   "metadata": {},
   "source": [
    "## Summary\n",
    "\n",
    "| Algorithm                     | Key Idea                                                                            | caret `method` | Example Visualization                                              |\n",
    "| ----------------------------- | ----------------------------------------------------------------------------------- | -------------- | ------------------------------------------------------------------ |\n",
    "| **K-Nearest Neighbors (KNN)** | Classifies a point based on the majority class of its *k* nearest neighbors.        | `\"knn\"`        | Scatterplots with ellipses (`featurePlot`), Decision boundaries    |\n",
    "| **Naive Bayes (NB)**          | Probabilistic model assuming feature independence given class. Uses Bayes’ theorem. | `\"nb\"`         | Density plots (`featurePlot(plot=\"density\")`), Decision boundaries |\n",
    "| **Decision Tree**             | Splits data into branches using feature thresholds until leaves represent classes.  | `\"rpart\"`      | Tree plots (`rpart.plot`), feature importance                      |\n",
    "| **Random Forest**             | Ensemble of many decision trees with bootstrap sampling + random feature splits.    | `\"rf\"`         | Feature importance plots (`varImpPlot`), partial dependence plots  |\n"
   ]
  }
 ],
 "metadata": {
  "kernelspec": {
   "display_name": "R 4.5.1",
   "language": "R",
   "name": "ir45"
  },
  "language_info": {
   "codemirror_mode": "r",
   "file_extension": ".r",
   "mimetype": "text/x-r-source",
   "name": "R",
   "pygments_lexer": "r",
   "version": "4.5.1"
  }
 },
 "nbformat": 4,
 "nbformat_minor": 5
}
