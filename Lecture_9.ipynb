{
 "cells": [
  {
   "cell_type": "markdown",
   "id": "37630ae6",
   "metadata": {},
   "source": [
    "# USER DEFINED FUNCTIONS IN R\n",
    "\n",
    "In R, you can create your own functions (called user-defined functions) to organize and reuse code.\n",
    "\n",
    "**Syntax**\n",
    "\n",
    "function_name <- function(arg1, arg2, ...) {\n",
    "  Body of function\n",
    "  Some operations\n",
    "  return(result)\n",
    "}"
   ]
  },
  {
   "cell_type": "markdown",
   "id": "d70fd098",
   "metadata": {},
   "source": [
    "### Example 1: A Simple Function (Square of a Number)"
   ]
  },
  {
   "cell_type": "code",
   "execution_count": 1,
   "id": "fa633d91",
   "metadata": {
    "vscode": {
     "languageId": "r"
    }
   },
   "outputs": [
    {
     "data": {
      "text/html": [
       "25"
      ],
      "text/latex": [
       "25"
      ],
      "text/markdown": [
       "25"
      ],
      "text/plain": [
       "[1] 25"
      ]
     },
     "metadata": {},
     "output_type": "display_data"
    }
   ],
   "source": [
    "# Define function\n",
    "square_num <- function(x) {\n",
    "  result <- x^2\n",
    "  return(result)\n",
    "}\n",
    "\n",
    "# Call function\n",
    "square_num(5)   # Output: 25"
   ]
  },
  {
   "cell_type": "markdown",
   "id": "ec2d989d",
   "metadata": {},
   "source": [
    "### Example 2: Function with Multiple Arguments"
   ]
  },
  {
   "cell_type": "code",
   "execution_count": 2,
   "id": "3afacd8c",
   "metadata": {
    "vscode": {
     "languageId": "r"
    }
   },
   "outputs": [
    {
     "data": {
      "text/html": [
       "25"
      ],
      "text/latex": [
       "25"
      ],
      "text/markdown": [
       "25"
      ],
      "text/plain": [
       "[1] 25"
      ]
     },
     "metadata": {},
     "output_type": "display_data"
    }
   ],
   "source": [
    "# Define function\n",
    "add_numbers <- function(a, b) {\n",
    "  sum <- a + b\n",
    "  return(sum)\n",
    "}\n",
    "\n",
    "# Call function\n",
    "add_numbers(10, 15)   # Output: 25\n"
   ]
  },
  {
   "cell_type": "markdown",
   "id": "3979fe67",
   "metadata": {},
   "source": [
    "### Example 3: Function with Default Argument"
   ]
  },
  {
   "cell_type": "code",
   "execution_count": 3,
   "id": "b1b978a7",
   "metadata": {
    "vscode": {
     "languageId": "r"
    }
   },
   "outputs": [
    {
     "data": {
      "text/html": [
       "9"
      ],
      "text/latex": [
       "9"
      ],
      "text/markdown": [
       "9"
      ],
      "text/plain": [
       "[1] 9"
      ]
     },
     "metadata": {},
     "output_type": "display_data"
    },
    {
     "data": {
      "text/html": [
       "27"
      ],
      "text/latex": [
       "27"
      ],
      "text/markdown": [
       "27"
      ],
      "text/plain": [
       "[1] 27"
      ]
     },
     "metadata": {},
     "output_type": "display_data"
    }
   ],
   "source": [
    "# Define function\n",
    "power_num <- function(x, p = 2) {\n",
    "  result <- x^p\n",
    "  return(result)\n",
    "}\n",
    "\n",
    "# Call function\n",
    "power_num(3)       # Default power = 2 → 9\n",
    "power_num(3, 3)    # 27\n"
   ]
  },
  {
   "cell_type": "markdown",
   "id": "015c2c85",
   "metadata": {},
   "source": [
    "### Example 4: Function Returning Multiple Values"
   ]
  },
  {
   "cell_type": "code",
   "execution_count": 4,
   "id": "325450a5",
   "metadata": {
    "vscode": {
     "languageId": "r"
    }
   },
   "outputs": [
    {
     "data": {
      "text/html": [
       "<dl>\n",
       "\t<dt>$mean</dt>\n",
       "\t\t<dd>6</dd>\n",
       "\t<dt>$median</dt>\n",
       "\t\t<dd>6</dd>\n",
       "\t<dt>$sd</dt>\n",
       "\t\t<dd>3.16227766016838</dd>\n",
       "</dl>\n"
      ],
      "text/latex": [
       "\\begin{description}\n",
       "\\item[\\$mean] 6\n",
       "\\item[\\$median] 6\n",
       "\\item[\\$sd] 3.16227766016838\n",
       "\\end{description}\n"
      ],
      "text/markdown": [
       "$mean\n",
       ":   6\n",
       "$median\n",
       ":   6\n",
       "$sd\n",
       ":   3.16227766016838\n",
       "\n",
       "\n"
      ],
      "text/plain": [
       "$mean\n",
       "[1] 6\n",
       "\n",
       "$median\n",
       "[1] 6\n",
       "\n",
       "$sd\n",
       "[1] 3.162278\n"
      ]
     },
     "metadata": {},
     "output_type": "display_data"
    }
   ],
   "source": [
    "# Define function\n",
    "calc_stats <- function(x) {\n",
    "  result <- list(\n",
    "    mean = mean(x),\n",
    "    median = median(x),\n",
    "    sd = sd(x)\n",
    "  )\n",
    "  return(result)\n",
    "}\n",
    "\n",
    "# Call function\n",
    "data <- c(2, 4, 6, 8, 10)\n",
    "calc_stats(data)\n"
   ]
  },
  {
   "cell_type": "markdown",
   "id": "24aaab42",
   "metadata": {},
   "source": [
    "### Example 5: Function Without Arguments"
   ]
  },
  {
   "cell_type": "code",
   "execution_count": 5,
   "id": "1bc1fbf5",
   "metadata": {
    "vscode": {
     "languageId": "r"
    }
   },
   "outputs": [
    {
     "data": {
      "text/html": [
       "'Hello, welcome to R!'"
      ],
      "text/latex": [
       "'Hello, welcome to R!'"
      ],
      "text/markdown": [
       "'Hello, welcome to R!'"
      ],
      "text/plain": [
       "[1] \"Hello, welcome to R!\""
      ]
     },
     "metadata": {},
     "output_type": "display_data"
    }
   ],
   "source": [
    "# Define function\n",
    "greet <- function() {\n",
    "  return(\"Hello, welcome to R!\")\n",
    "}\n",
    "\n",
    "# Call function\n",
    "greet()\n"
   ]
  },
  {
   "cell_type": "markdown",
   "id": "c2eabc4c",
   "metadata": {},
   "source": [
    "## Summary:\n",
    "\n",
    "User-defined functions in R let you bundle reusable code into named blocks. They can take arguments (with or without defaults), perform computations, and return results (single or multiple)."
   ]
  },
  {
   "cell_type": "markdown",
   "id": "5c8d9004",
   "metadata": {},
   "source": [
    "## Practice Questions\n",
    "\n",
    "### Factorial Function\n",
    "Write a function my_factorial(n) that calculates the factorial of a number n.\n",
    "Example:\n",
    "\n",
    "my_factorial(5)  # Expected output: 120\n"
   ]
  },
  {
   "cell_type": "code",
   "execution_count": 6,
   "id": "dc932b3b",
   "metadata": {
    "vscode": {
     "languageId": "r"
    }
   },
   "outputs": [
    {
     "data": {
      "text/html": [
       "120"
      ],
      "text/latex": [
       "120"
      ],
      "text/markdown": [
       "120"
      ],
      "text/plain": [
       "[1] 120"
      ]
     },
     "metadata": {},
     "output_type": "display_data"
    },
    {
     "data": {
      "text/html": [
       "1"
      ],
      "text/latex": [
       "1"
      ],
      "text/markdown": [
       "1"
      ],
      "text/plain": [
       "[1] 1"
      ]
     },
     "metadata": {},
     "output_type": "display_data"
    }
   ],
   "source": [
    "my_factorial <- function(n) {\n",
    "  if (n == 0) {\n",
    "    return(1)\n",
    "  } else {\n",
    "    result <- 1\n",
    "    for (i in 1:n) {\n",
    "      result <- result * i\n",
    "    }\n",
    "    return(result)\n",
    "  }\n",
    "}\n",
    "\n",
    "# Test\n",
    "my_factorial(5)   # Output: 120\n",
    "my_factorial(0)   # Output: 1\n"
   ]
  },
  {
   "cell_type": "markdown",
   "id": "30050421",
   "metadata": {},
   "source": [
    "### Even or Odd Checker\n",
    "\n",
    "Create a function check_even_odd(num) that takes a number and returns \"Even\" if the number is even and \"Odd\" if the number is odd.\n",
    "\n",
    "**Example:**\n",
    "\n",
    "* check_even_odd(7)   # Expected output: \"Odd\"\n",
    "* check_even_odd(12)  # Expected output: \"Even\""
   ]
  },
  {
   "cell_type": "code",
   "execution_count": 7,
   "id": "1dddf52e",
   "metadata": {
    "vscode": {
     "languageId": "r"
    }
   },
   "outputs": [
    {
     "data": {
      "text/html": [
       "'Odd'"
      ],
      "text/latex": [
       "'Odd'"
      ],
      "text/markdown": [
       "'Odd'"
      ],
      "text/plain": [
       "[1] \"Odd\""
      ]
     },
     "metadata": {},
     "output_type": "display_data"
    },
    {
     "data": {
      "text/html": [
       "'Even'"
      ],
      "text/latex": [
       "'Even'"
      ],
      "text/markdown": [
       "'Even'"
      ],
      "text/plain": [
       "[1] \"Even\""
      ]
     },
     "metadata": {},
     "output_type": "display_data"
    }
   ],
   "source": [
    "check_even_odd <- function(num) {\n",
    "  if (num %% 2 == 0) {\n",
    "    return(\"Even\")\n",
    "  } else {\n",
    "    return(\"Odd\")\n",
    "  }\n",
    "}\n",
    "\n",
    "# Test\n",
    "check_even_odd(7)   # Output: \"Odd\"\n",
    "check_even_odd(12)  # Output: \"Even\"\n"
   ]
  },
  {
   "cell_type": "markdown",
   "id": "ebf34bc9",
   "metadata": {},
   "source": [
    "### Temperature Converter\n",
    "\n",
    "Write a function celsius_to_fahrenheit(c) that converts Celsius temperature into Fahrenheit.\n",
    "*Formula: F = (C * 9/5) + 32*\n",
    "\n",
    "**Example:**\n",
    "\n",
    "* celsius_to_fahrenheit(0)   # Expected output: 32\n",
    "* celsius_to_fahrenheit(25)  # Expected output: 77"
   ]
  },
  {
   "cell_type": "code",
   "execution_count": 8,
   "id": "f8f4bc6b",
   "metadata": {
    "vscode": {
     "languageId": "r"
    }
   },
   "outputs": [
    {
     "data": {
      "text/html": [
       "32"
      ],
      "text/latex": [
       "32"
      ],
      "text/markdown": [
       "32"
      ],
      "text/plain": [
       "[1] 32"
      ]
     },
     "metadata": {},
     "output_type": "display_data"
    },
    {
     "data": {
      "text/html": [
       "77"
      ],
      "text/latex": [
       "77"
      ],
      "text/markdown": [
       "77"
      ],
      "text/plain": [
       "[1] 77"
      ]
     },
     "metadata": {},
     "output_type": "display_data"
    }
   ],
   "source": [
    "celsius_to_fahrenheit <- function(c) {\n",
    "  f <- (c * 9/5) + 32\n",
    "  return(f)\n",
    "}\n",
    "\n",
    "# Test\n",
    "celsius_to_fahrenheit(0)    # Output: 32\n",
    "celsius_to_fahrenheit(25)   # Output: 77\n"
   ]
  }
 ],
 "metadata": {
  "kernelspec": {
   "display_name": "R",
   "language": "R",
   "name": "ir"
  },
  "language_info": {
   "codemirror_mode": "r",
   "file_extension": ".r",
   "mimetype": "text/x-r-source",
   "name": "R",
   "pygments_lexer": "r",
   "version": "4.3.1"
  }
 },
 "nbformat": 4,
 "nbformat_minor": 5
}
