{
 "cells": [
  {
   "cell_type": "markdown",
   "id": "2499185e",
   "metadata": {},
   "source": [
    "# Functions of dplyr Package\n",
    "\n",
    "dplyr is part of the tidyverse in R, and it provides easy-to-use functions for data manipulation."
   ]
  },
  {
   "cell_type": "markdown",
   "id": "c88dd3ef",
   "metadata": {},
   "source": [
    "### select() – Choose Columns\n",
    "\n",
    "* Purpose: Select specific columns from a data frame.\n",
    "\n",
    "* Use Case: If you want only certain variables."
   ]
  },
  {
   "cell_type": "code",
   "execution_count": 2,
   "id": "8a4dd28e",
   "metadata": {
    "vscode": {
     "languageId": "r"
    }
   },
   "outputs": [
    {
     "name": "stderr",
     "output_type": "stream",
     "text": [
      "Warning message:\n",
      "\"package 'dplyr' was built under R version 4.3.3\"\n",
      "\n",
      "Attaching package: 'dplyr'\n",
      "\n",
      "\n",
      "The following objects are masked from 'package:stats':\n",
      "\n",
      "    filter, lag\n",
      "\n",
      "\n",
      "The following objects are masked from 'package:base':\n",
      "\n",
      "    intersect, setdiff, setequal, union\n",
      "\n",
      "\n"
     ]
    },
    {
     "data": {
      "text/html": [
       "<table class=\"dataframe\">\n",
       "<caption>A data.frame: 3 × 2</caption>\n",
       "<thead>\n",
       "\t<tr><th scope=col>Name</th><th scope=col>Age</th></tr>\n",
       "\t<tr><th scope=col>&lt;chr&gt;</th><th scope=col>&lt;dbl&gt;</th></tr>\n",
       "</thead>\n",
       "<tbody>\n",
       "\t<tr><td>Ali </td><td>25</td></tr>\n",
       "\t<tr><td>Sara</td><td>30</td></tr>\n",
       "\t<tr><td>John</td><td>28</td></tr>\n",
       "</tbody>\n",
       "</table>\n"
      ],
      "text/latex": [
       "A data.frame: 3 × 2\n",
       "\\begin{tabular}{ll}\n",
       " Name & Age\\\\\n",
       " <chr> & <dbl>\\\\\n",
       "\\hline\n",
       "\t Ali  & 25\\\\\n",
       "\t Sara & 30\\\\\n",
       "\t John & 28\\\\\n",
       "\\end{tabular}\n"
      ],
      "text/markdown": [
       "\n",
       "A data.frame: 3 × 2\n",
       "\n",
       "| Name &lt;chr&gt; | Age &lt;dbl&gt; |\n",
       "|---|---|\n",
       "| Ali  | 25 |\n",
       "| Sara | 30 |\n",
       "| John | 28 |\n",
       "\n"
      ],
      "text/plain": [
       "  Name Age\n",
       "1 Ali  25 \n",
       "2 Sara 30 \n",
       "3 John 28 "
      ]
     },
     "metadata": {},
     "output_type": "display_data"
    }
   ],
   "source": [
    "#install.packages(\"dplyr\")\n",
    "library(dplyr)\n",
    "\n",
    "# Example data\n",
    "df <- data.frame(Name = c(\"Ali\", \"Sara\", \"John\"),\n",
    "                 Age = c(25, 30, 28),\n",
    "                 Salary = c(50000, 60000, 55000))\n",
    "\n",
    "# Select only Name and Age\n",
    "select(df, Name, Age)"
   ]
  },
  {
   "cell_type": "markdown",
   "id": "3d4ba4e1",
   "metadata": {},
   "source": [
    "### filter() – Filter Rows"
   ]
  },
  {
   "cell_type": "code",
   "execution_count": 2,
   "id": "3f16f393",
   "metadata": {
    "vscode": {
     "languageId": "r"
    }
   },
   "outputs": [
    {
     "data": {
      "text/html": [
       "<table class=\"dataframe\">\n",
       "<caption>A data.frame: 2 × 3</caption>\n",
       "<thead>\n",
       "\t<tr><th scope=col>Name</th><th scope=col>Age</th><th scope=col>Salary</th></tr>\n",
       "\t<tr><th scope=col>&lt;chr&gt;</th><th scope=col>&lt;dbl&gt;</th><th scope=col>&lt;dbl&gt;</th></tr>\n",
       "</thead>\n",
       "<tbody>\n",
       "\t<tr><td>Sara</td><td>30</td><td>60000</td></tr>\n",
       "\t<tr><td>John</td><td>28</td><td>55000</td></tr>\n",
       "</tbody>\n",
       "</table>\n"
      ],
      "text/latex": [
       "A data.frame: 2 × 3\n",
       "\\begin{tabular}{lll}\n",
       " Name & Age & Salary\\\\\n",
       " <chr> & <dbl> & <dbl>\\\\\n",
       "\\hline\n",
       "\t Sara & 30 & 60000\\\\\n",
       "\t John & 28 & 55000\\\\\n",
       "\\end{tabular}\n"
      ],
      "text/markdown": [
       "\n",
       "A data.frame: 2 × 3\n",
       "\n",
       "| Name &lt;chr&gt; | Age &lt;dbl&gt; | Salary &lt;dbl&gt; |\n",
       "|---|---|---|\n",
       "| Sara | 30 | 60000 |\n",
       "| John | 28 | 55000 |\n",
       "\n"
      ],
      "text/plain": [
       "  Name Age Salary\n",
       "1 Sara 30  60000 \n",
       "2 John 28  55000 "
      ]
     },
     "metadata": {},
     "output_type": "display_data"
    }
   ],
   "source": [
    "# Filter rows where Age > 26\n",
    "filter(df, Age > 26)\n"
   ]
  },
  {
   "cell_type": "markdown",
   "id": "6fd4bb63",
   "metadata": {},
   "source": [
    "### arrange() – Sort Rows"
   ]
  },
  {
   "cell_type": "code",
   "execution_count": 3,
   "id": "1e695923",
   "metadata": {
    "vscode": {
     "languageId": "r"
    }
   },
   "outputs": [
    {
     "data": {
      "text/html": [
       "<table class=\"dataframe\">\n",
       "<caption>A data.frame: 3 × 3</caption>\n",
       "<thead>\n",
       "\t<tr><th scope=col>Name</th><th scope=col>Age</th><th scope=col>Salary</th></tr>\n",
       "\t<tr><th scope=col>&lt;chr&gt;</th><th scope=col>&lt;dbl&gt;</th><th scope=col>&lt;dbl&gt;</th></tr>\n",
       "</thead>\n",
       "<tbody>\n",
       "\t<tr><td>Ali </td><td>25</td><td>50000</td></tr>\n",
       "\t<tr><td>John</td><td>28</td><td>55000</td></tr>\n",
       "\t<tr><td>Sara</td><td>30</td><td>60000</td></tr>\n",
       "</tbody>\n",
       "</table>\n"
      ],
      "text/latex": [
       "A data.frame: 3 × 3\n",
       "\\begin{tabular}{lll}\n",
       " Name & Age & Salary\\\\\n",
       " <chr> & <dbl> & <dbl>\\\\\n",
       "\\hline\n",
       "\t Ali  & 25 & 50000\\\\\n",
       "\t John & 28 & 55000\\\\\n",
       "\t Sara & 30 & 60000\\\\\n",
       "\\end{tabular}\n"
      ],
      "text/markdown": [
       "\n",
       "A data.frame: 3 × 3\n",
       "\n",
       "| Name &lt;chr&gt; | Age &lt;dbl&gt; | Salary &lt;dbl&gt; |\n",
       "|---|---|---|\n",
       "| Ali  | 25 | 50000 |\n",
       "| John | 28 | 55000 |\n",
       "| Sara | 30 | 60000 |\n",
       "\n"
      ],
      "text/plain": [
       "  Name Age Salary\n",
       "1 Ali  25  50000 \n",
       "2 John 28  55000 \n",
       "3 Sara 30  60000 "
      ]
     },
     "metadata": {},
     "output_type": "display_data"
    },
    {
     "data": {
      "text/html": [
       "<table class=\"dataframe\">\n",
       "<caption>A data.frame: 3 × 3</caption>\n",
       "<thead>\n",
       "\t<tr><th scope=col>Name</th><th scope=col>Age</th><th scope=col>Salary</th></tr>\n",
       "\t<tr><th scope=col>&lt;chr&gt;</th><th scope=col>&lt;dbl&gt;</th><th scope=col>&lt;dbl&gt;</th></tr>\n",
       "</thead>\n",
       "<tbody>\n",
       "\t<tr><td>Sara</td><td>30</td><td>60000</td></tr>\n",
       "\t<tr><td>John</td><td>28</td><td>55000</td></tr>\n",
       "\t<tr><td>Ali </td><td>25</td><td>50000</td></tr>\n",
       "</tbody>\n",
       "</table>\n"
      ],
      "text/latex": [
       "A data.frame: 3 × 3\n",
       "\\begin{tabular}{lll}\n",
       " Name & Age & Salary\\\\\n",
       " <chr> & <dbl> & <dbl>\\\\\n",
       "\\hline\n",
       "\t Sara & 30 & 60000\\\\\n",
       "\t John & 28 & 55000\\\\\n",
       "\t Ali  & 25 & 50000\\\\\n",
       "\\end{tabular}\n"
      ],
      "text/markdown": [
       "\n",
       "A data.frame: 3 × 3\n",
       "\n",
       "| Name &lt;chr&gt; | Age &lt;dbl&gt; | Salary &lt;dbl&gt; |\n",
       "|---|---|---|\n",
       "| Sara | 30 | 60000 |\n",
       "| John | 28 | 55000 |\n",
       "| Ali  | 25 | 50000 |\n",
       "\n"
      ],
      "text/plain": [
       "  Name Age Salary\n",
       "1 Sara 30  60000 \n",
       "2 John 28  55000 \n",
       "3 Ali  25  50000 "
      ]
     },
     "metadata": {},
     "output_type": "display_data"
    }
   ],
   "source": [
    "# Sort by Age ascending\n",
    "arrange(df, Age)\n",
    "\n",
    "# Sort by Salary descending\n",
    "arrange(df, desc(Salary))\n"
   ]
  },
  {
   "cell_type": "markdown",
   "id": "037f36a0",
   "metadata": {},
   "source": [
    "### mutate() – Create or Transform Columns"
   ]
  },
  {
   "cell_type": "code",
   "execution_count": 4,
   "id": "2e84d54e",
   "metadata": {
    "vscode": {
     "languageId": "r"
    }
   },
   "outputs": [
    {
     "data": {
      "text/html": [
       "<table class=\"dataframe\">\n",
       "<caption>A data.frame: 3 × 4</caption>\n",
       "<thead>\n",
       "\t<tr><th scope=col>Name</th><th scope=col>Age</th><th scope=col>Salary</th><th scope=col>Bonus</th></tr>\n",
       "\t<tr><th scope=col>&lt;chr&gt;</th><th scope=col>&lt;dbl&gt;</th><th scope=col>&lt;dbl&gt;</th><th scope=col>&lt;dbl&gt;</th></tr>\n",
       "</thead>\n",
       "<tbody>\n",
       "\t<tr><td>Ali </td><td>25</td><td>50000</td><td>5000</td></tr>\n",
       "\t<tr><td>Sara</td><td>30</td><td>60000</td><td>6000</td></tr>\n",
       "\t<tr><td>John</td><td>28</td><td>55000</td><td>5500</td></tr>\n",
       "</tbody>\n",
       "</table>\n"
      ],
      "text/latex": [
       "A data.frame: 3 × 4\n",
       "\\begin{tabular}{llll}\n",
       " Name & Age & Salary & Bonus\\\\\n",
       " <chr> & <dbl> & <dbl> & <dbl>\\\\\n",
       "\\hline\n",
       "\t Ali  & 25 & 50000 & 5000\\\\\n",
       "\t Sara & 30 & 60000 & 6000\\\\\n",
       "\t John & 28 & 55000 & 5500\\\\\n",
       "\\end{tabular}\n"
      ],
      "text/markdown": [
       "\n",
       "A data.frame: 3 × 4\n",
       "\n",
       "| Name &lt;chr&gt; | Age &lt;dbl&gt; | Salary &lt;dbl&gt; | Bonus &lt;dbl&gt; |\n",
       "|---|---|---|---|\n",
       "| Ali  | 25 | 50000 | 5000 |\n",
       "| Sara | 30 | 60000 | 6000 |\n",
       "| John | 28 | 55000 | 5500 |\n",
       "\n"
      ],
      "text/plain": [
       "  Name Age Salary Bonus\n",
       "1 Ali  25  50000  5000 \n",
       "2 Sara 30  60000  6000 \n",
       "3 John 28  55000  5500 "
      ]
     },
     "metadata": {},
     "output_type": "display_data"
    }
   ],
   "source": [
    "# Add a new column Bonus = 10% of Salary\n",
    "mutate(df, Bonus = Salary * 0.10)\n"
   ]
  },
  {
   "cell_type": "markdown",
   "id": "fa29ef7e",
   "metadata": {},
   "source": [
    "### summarize() – Summarize Data"
   ]
  },
  {
   "cell_type": "code",
   "execution_count": 3,
   "id": "732102ba",
   "metadata": {
    "vscode": {
     "languageId": "r"
    }
   },
   "outputs": [
    {
     "data": {
      "text/html": [
       "<table class=\"dataframe\">\n",
       "<caption>A data.frame: 1 × 1</caption>\n",
       "<thead>\n",
       "\t<tr><th scope=col>avg_salary</th></tr>\n",
       "\t<tr><th scope=col>&lt;dbl&gt;</th></tr>\n",
       "</thead>\n",
       "<tbody>\n",
       "\t<tr><td>55000</td></tr>\n",
       "</tbody>\n",
       "</table>\n"
      ],
      "text/latex": [
       "A data.frame: 1 × 1\n",
       "\\begin{tabular}{l}\n",
       " avg\\_salary\\\\\n",
       " <dbl>\\\\\n",
       "\\hline\n",
       "\t 55000\\\\\n",
       "\\end{tabular}\n"
      ],
      "text/markdown": [
       "\n",
       "A data.frame: 1 × 1\n",
       "\n",
       "| avg_salary &lt;dbl&gt; |\n",
       "|---|\n",
       "| 55000 |\n",
       "\n"
      ],
      "text/plain": [
       "  avg_salary\n",
       "1 55000     "
      ]
     },
     "metadata": {},
     "output_type": "display_data"
    },
    {
     "data": {
      "text/html": [
       "<table class=\"dataframe\">\n",
       "<caption>A tibble: 2 × 3</caption>\n",
       "<thead>\n",
       "\t<tr><th scope=col>Class</th><th scope=col>avg_marks</th><th scope=col>max_marks</th></tr>\n",
       "\t<tr><th scope=col>&lt;chr&gt;</th><th scope=col>&lt;dbl&gt;</th><th scope=col>&lt;dbl&gt;</th></tr>\n",
       "</thead>\n",
       "<tbody>\n",
       "\t<tr><td>A</td><td>89.00000</td><td>92</td></tr>\n",
       "\t<tr><td>B</td><td>82.33333</td><td>88</td></tr>\n",
       "</tbody>\n",
       "</table>\n"
      ],
      "text/latex": [
       "A tibble: 2 × 3\n",
       "\\begin{tabular}{lll}\n",
       " Class & avg\\_marks & max\\_marks\\\\\n",
       " <chr> & <dbl> & <dbl>\\\\\n",
       "\\hline\n",
       "\t A & 89.00000 & 92\\\\\n",
       "\t B & 82.33333 & 88\\\\\n",
       "\\end{tabular}\n"
      ],
      "text/markdown": [
       "\n",
       "A tibble: 2 × 3\n",
       "\n",
       "| Class &lt;chr&gt; | avg_marks &lt;dbl&gt; | max_marks &lt;dbl&gt; |\n",
       "|---|---|---|\n",
       "| A | 89.00000 | 92 |\n",
       "| B | 82.33333 | 88 |\n",
       "\n"
      ],
      "text/plain": [
       "  Class avg_marks max_marks\n",
       "1 A     89.00000  92       \n",
       "2 B     82.33333  88       "
      ]
     },
     "metadata": {},
     "output_type": "display_data"
    }
   ],
   "source": [
    "# Average Salary\n",
    "summarize(df, avg_salary = mean(Salary))\n",
    "\n",
    "# Sample data\n",
    "students <- data.frame(\n",
    "  Name = c(\"Ali\", \"Sara\", \"John\", \"Emma\", \"Omar\", \"Lina\"),\n",
    "  Class = c(\"A\", \"A\", \"B\", \"B\", \"A\", \"B\"),\n",
    "  Marks = c(85, 90, 78, 88, 92, 81)\n",
    ")\n",
    "\n",
    "# Group by Class and calculate average marks\n",
    "summarize(\n",
    "  group_by(students, Class),\n",
    "  avg_marks = mean(Marks),\n",
    "  max_marks = max(Marks)\n",
    ")\n",
    "\n"
   ]
  },
  {
   "cell_type": "markdown",
   "id": "5098b070",
   "metadata": {},
   "source": [
    "## Summary\n",
    "\n",
    "| Function    | General Syntax |\n",
    "|-------------|----------------|\n",
    "| **select()**   | `select(data, col1, col2, …)` |\n",
    "| **filter()**   | `filter(data, condition)` |\n",
    "| **arrange()**  | `arrange(data, col)` <br> `arrange(data, desc(col))` |\n",
    "| **mutate()**   | `mutate(data, newcol = expression)` |\n",
    "| **summarize()** | `summarize(data, newcol = function(column))` |\n"
   ]
  },
  {
   "cell_type": "markdown",
   "id": "b1680daa",
   "metadata": {},
   "source": [
    "## Practice Questions with `mtcars`  \n",
    "\n",
    "1. **select()** → Select only the columns `mpg`, `hp`, and `gear` from `mtcars`.  \n",
    "\n",
    "2. **filter()** → Find all cars where `mpg` is greater than 25.  \n",
    "\n",
    "3. **arrange()** → Sort the dataset by `hp` (horsepower) in descending order.  \n",
    "\n",
    "4. **mutate()** → Create a new column called `efficiency` that is the ratio of `mpg` to `wt`.  \n",
    "\n",
    "5. **summarize()** → Find the average horsepower (`hp`) of all cars in the dataset.  \n",
    "\n"
   ]
  }
 ],
 "metadata": {
  "kernelspec": {
   "display_name": "R",
   "language": "R",
   "name": "ir"
  },
  "language_info": {
   "codemirror_mode": "r",
   "file_extension": ".r",
   "mimetype": "text/x-r-source",
   "name": "R",
   "pygments_lexer": "r",
   "version": "4.3.1"
  }
 },
 "nbformat": 4,
 "nbformat_minor": 5
}
